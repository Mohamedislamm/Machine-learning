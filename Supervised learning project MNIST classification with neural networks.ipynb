{
  "cells": [
    {
      "cell_type": "code",
      "execution_count": 1,
      "metadata": {
        "collapsed": true,
        "id": "lUVU4PKUjT9X",
        "colab": {
          "base_uri": "https://localhost:8080/"
        },
        "outputId": "af9e8230-d3eb-4cef-c97d-f500d49b80bf"
      },
      "outputs": [
        {
          "output_type": "stream",
          "name": "stdout",
          "text": [
            "Collecting tensorflow\n",
            "  Downloading tensorflow-2.19.0-cp311-cp311-manylinux_2_17_x86_64.manylinux2014_x86_64.whl.metadata (4.1 kB)\n",
            "Requirement already satisfied: absl-py>=1.0.0 in /usr/local/lib/python3.11/dist-packages (from tensorflow) (1.4.0)\n",
            "Collecting astunparse>=1.6.0 (from tensorflow)\n",
            "  Downloading astunparse-1.6.3-py2.py3-none-any.whl.metadata (4.4 kB)\n",
            "Collecting flatbuffers>=24.3.25 (from tensorflow)\n",
            "  Downloading flatbuffers-25.2.10-py2.py3-none-any.whl.metadata (875 bytes)\n",
            "Requirement already satisfied: gast!=0.5.0,!=0.5.1,!=0.5.2,>=0.2.1 in /usr/local/lib/python3.11/dist-packages (from tensorflow) (0.6.0)\n",
            "Collecting google-pasta>=0.1.1 (from tensorflow)\n",
            "  Downloading google_pasta-0.2.0-py3-none-any.whl.metadata (814 bytes)\n",
            "Collecting libclang>=13.0.0 (from tensorflow)\n",
            "  Downloading libclang-18.1.1-py2.py3-none-manylinux2010_x86_64.whl.metadata (5.2 kB)\n",
            "Requirement already satisfied: opt-einsum>=2.3.2 in /usr/local/lib/python3.11/dist-packages (from tensorflow) (3.4.0)\n",
            "Requirement already satisfied: packaging in /usr/local/lib/python3.11/dist-packages (from tensorflow) (25.0)\n",
            "Requirement already satisfied: protobuf!=4.21.0,!=4.21.1,!=4.21.2,!=4.21.3,!=4.21.4,!=4.21.5,<6.0.0dev,>=3.20.3 in /usr/local/lib/python3.11/dist-packages (from tensorflow) (5.29.4)\n",
            "Requirement already satisfied: requests<3,>=2.21.0 in /usr/local/lib/python3.11/dist-packages (from tensorflow) (2.32.3)\n",
            "Requirement already satisfied: setuptools in /usr/local/lib/python3.11/dist-packages (from tensorflow) (75.2.0)\n",
            "Requirement already satisfied: six>=1.12.0 in /usr/local/lib/python3.11/dist-packages (from tensorflow) (1.17.0)\n",
            "Requirement already satisfied: termcolor>=1.1.0 in /usr/local/lib/python3.11/dist-packages (from tensorflow) (3.1.0)\n",
            "Requirement already satisfied: typing-extensions>=3.6.6 in /usr/local/lib/python3.11/dist-packages (from tensorflow) (4.13.2)\n",
            "Requirement already satisfied: wrapt>=1.11.0 in /usr/local/lib/python3.11/dist-packages (from tensorflow) (1.17.2)\n",
            "Requirement already satisfied: grpcio<2.0,>=1.24.3 in /usr/local/lib/python3.11/dist-packages (from tensorflow) (1.71.0)\n",
            "Collecting tensorboard~=2.19.0 (from tensorflow)\n",
            "  Downloading tensorboard-2.19.0-py3-none-any.whl.metadata (1.8 kB)\n",
            "Requirement already satisfied: keras>=3.5.0 in /usr/local/lib/python3.11/dist-packages (from tensorflow) (3.8.0)\n",
            "Requirement already satisfied: numpy<2.2.0,>=1.26.0 in /usr/local/lib/python3.11/dist-packages (from tensorflow) (2.0.2)\n",
            "Requirement already satisfied: h5py>=3.11.0 in /usr/local/lib/python3.11/dist-packages (from tensorflow) (3.13.0)\n",
            "Requirement already satisfied: ml-dtypes<1.0.0,>=0.5.1 in /usr/local/lib/python3.11/dist-packages (from tensorflow) (0.5.1)\n",
            "Collecting tensorflow-io-gcs-filesystem>=0.23.1 (from tensorflow)\n",
            "  Downloading tensorflow_io_gcs_filesystem-0.37.1-cp311-cp311-manylinux_2_17_x86_64.manylinux2014_x86_64.whl.metadata (14 kB)\n",
            "Collecting wheel<1.0,>=0.23.0 (from astunparse>=1.6.0->tensorflow)\n",
            "  Downloading wheel-0.45.1-py3-none-any.whl.metadata (2.3 kB)\n",
            "Requirement already satisfied: rich in /usr/local/lib/python3.11/dist-packages (from keras>=3.5.0->tensorflow) (14.0.0)\n",
            "Requirement already satisfied: namex in /usr/local/lib/python3.11/dist-packages (from keras>=3.5.0->tensorflow) (0.0.9)\n",
            "Requirement already satisfied: optree in /usr/local/lib/python3.11/dist-packages (from keras>=3.5.0->tensorflow) (0.15.0)\n",
            "Requirement already satisfied: charset-normalizer<4,>=2 in /usr/local/lib/python3.11/dist-packages (from requests<3,>=2.21.0->tensorflow) (3.4.2)\n",
            "Requirement already satisfied: idna<4,>=2.5 in /usr/local/lib/python3.11/dist-packages (from requests<3,>=2.21.0->tensorflow) (3.10)\n",
            "Requirement already satisfied: urllib3<3,>=1.21.1 in /usr/local/lib/python3.11/dist-packages (from requests<3,>=2.21.0->tensorflow) (2.4.0)\n",
            "Requirement already satisfied: certifi>=2017.4.17 in /usr/local/lib/python3.11/dist-packages (from requests<3,>=2.21.0->tensorflow) (2025.4.26)\n",
            "Requirement already satisfied: markdown>=2.6.8 in /usr/lib/python3/dist-packages (from tensorboard~=2.19.0->tensorflow) (3.3.6)\n",
            "Collecting tensorboard-data-server<0.8.0,>=0.7.0 (from tensorboard~=2.19.0->tensorflow)\n",
            "  Downloading tensorboard_data_server-0.7.2-py3-none-manylinux_2_31_x86_64.whl.metadata (1.1 kB)\n",
            "Collecting werkzeug>=1.0.1 (from tensorboard~=2.19.0->tensorflow)\n",
            "  Downloading werkzeug-3.1.3-py3-none-any.whl.metadata (3.7 kB)\n",
            "Requirement already satisfied: MarkupSafe>=2.1.1 in /usr/local/lib/python3.11/dist-packages (from werkzeug>=1.0.1->tensorboard~=2.19.0->tensorflow) (3.0.2)\n",
            "Requirement already satisfied: markdown-it-py>=2.2.0 in /usr/local/lib/python3.11/dist-packages (from rich->keras>=3.5.0->tensorflow) (3.0.0)\n",
            "Requirement already satisfied: pygments<3.0.0,>=2.13.0 in /usr/local/lib/python3.11/dist-packages (from rich->keras>=3.5.0->tensorflow) (2.19.1)\n",
            "Requirement already satisfied: mdurl~=0.1 in /usr/local/lib/python3.11/dist-packages (from markdown-it-py>=2.2.0->rich->keras>=3.5.0->tensorflow) (0.1.2)\n",
            "Downloading tensorflow-2.19.0-cp311-cp311-manylinux_2_17_x86_64.manylinux2014_x86_64.whl (644.9 MB)\n",
            "\u001b[2K   \u001b[90m━━━━━━━━━━━━━━━━━━━━━━━━━━━━━━━━━━━━━━━\u001b[0m \u001b[32m644.9/644.9 MB\u001b[0m \u001b[31m570.1 kB/s\u001b[0m eta \u001b[36m0:00:00\u001b[0m\n",
            "\u001b[?25hDownloading astunparse-1.6.3-py2.py3-none-any.whl (12 kB)\n",
            "Downloading flatbuffers-25.2.10-py2.py3-none-any.whl (30 kB)\n",
            "Downloading google_pasta-0.2.0-py3-none-any.whl (57 kB)\n",
            "\u001b[2K   \u001b[90m━━━━━━━━━━━━━━━━━━━━━━━━━━━━━━━━━━━━━━━━\u001b[0m \u001b[32m57.5/57.5 kB\u001b[0m \u001b[31m4.9 MB/s\u001b[0m eta \u001b[36m0:00:00\u001b[0m\n",
            "\u001b[?25hDownloading libclang-18.1.1-py2.py3-none-manylinux2010_x86_64.whl (24.5 MB)\n",
            "\u001b[2K   \u001b[90m━━━━━━━━━━━━━━━━━━━━━━━━━━━━━━━━━━━━━━━━\u001b[0m \u001b[32m24.5/24.5 MB\u001b[0m \u001b[31m53.2 MB/s\u001b[0m eta \u001b[36m0:00:00\u001b[0m\n",
            "\u001b[?25hDownloading tensorboard-2.19.0-py3-none-any.whl (5.5 MB)\n",
            "\u001b[2K   \u001b[90m━━━━━━━━━━━━━━━━━━━━━━━━━━━━━━━━━━━━━━━━\u001b[0m \u001b[32m5.5/5.5 MB\u001b[0m \u001b[31m60.2 MB/s\u001b[0m eta \u001b[36m0:00:00\u001b[0m\n",
            "\u001b[?25hDownloading tensorflow_io_gcs_filesystem-0.37.1-cp311-cp311-manylinux_2_17_x86_64.manylinux2014_x86_64.whl (5.1 MB)\n",
            "\u001b[2K   \u001b[90m━━━━━━━━━━━━━━━━━━━━━━━━━━━━━━━━━━━━━━━━\u001b[0m \u001b[32m5.1/5.1 MB\u001b[0m \u001b[31m51.1 MB/s\u001b[0m eta \u001b[36m0:00:00\u001b[0m\n",
            "\u001b[?25hDownloading tensorboard_data_server-0.7.2-py3-none-manylinux_2_31_x86_64.whl (6.6 MB)\n",
            "\u001b[2K   \u001b[90m━━━━━━━━━━━━━━━━━━━━━━━━━━━━━━━━━━━━━━━━\u001b[0m \u001b[32m6.6/6.6 MB\u001b[0m \u001b[31m50.2 MB/s\u001b[0m eta \u001b[36m0:00:00\u001b[0m\n",
            "\u001b[?25hDownloading werkzeug-3.1.3-py3-none-any.whl (224 kB)\n",
            "\u001b[2K   \u001b[90m━━━━━━━━━━━━━━━━━━━━━━━━━━━━━━━━━━━━━━━━\u001b[0m \u001b[32m224.5/224.5 kB\u001b[0m \u001b[31m14.7 MB/s\u001b[0m eta \u001b[36m0:00:00\u001b[0m\n",
            "\u001b[?25hDownloading wheel-0.45.1-py3-none-any.whl (72 kB)\n",
            "\u001b[2K   \u001b[90m━━━━━━━━━━━━━━━━━━━━━━━━━━━━━━━━━━━━━━━━\u001b[0m \u001b[32m72.5/72.5 kB\u001b[0m \u001b[31m6.1 MB/s\u001b[0m eta \u001b[36m0:00:00\u001b[0m\n",
            "\u001b[?25hInstalling collected packages: libclang, flatbuffers, wheel, werkzeug, tensorflow-io-gcs-filesystem, tensorboard-data-server, google-pasta, tensorboard, astunparse, tensorflow\n",
            "Successfully installed astunparse-1.6.3 flatbuffers-25.2.10 google-pasta-0.2.0 libclang-18.1.1 tensorboard-2.19.0 tensorboard-data-server-0.7.2 tensorflow-2.19.0 tensorflow-io-gcs-filesystem-0.37.1 werkzeug-3.1.3 wheel-0.45.1\n"
          ]
        }
      ],
      "source": [
        "!pip install tensorflow"
      ]
    },
    {
      "cell_type": "code",
      "execution_count": 2,
      "metadata": {
        "id": "ntO1311DRc5p"
      },
      "outputs": [],
      "source": [
        "import numpy as np\n",
        "import pandas as pd\n",
        "import tensorflow as tf\n",
        "import keras\n",
        "import time\n",
        "from tensorflow.keras.models import Sequential\n",
        "from tensorflow.keras.layers import Dense, Flatten, Conv2D, MaxPooling2D, Dropout\n",
        "from tensorflow.keras.optimizers import SGD, Adam, RMSprop\n",
        "from tensorflow.keras.utils import to_categorical\n",
        "from sklearn.svm import SVC\n",
        "from sklearn.metrics import accuracy_score\n",
        "from tensorflow.keras.datasets import mnist"
      ]
    },
    {
      "cell_type": "code",
      "execution_count": 3,
      "metadata": {
        "id": "N9O5PlsKS9xj",
        "colab": {
          "base_uri": "https://localhost:8080/"
        },
        "outputId": "c24ad807-8901-4235-bb1d-6b1d5b590535"
      },
      "outputs": [
        {
          "output_type": "stream",
          "name": "stdout",
          "text": [
            "Downloading data from https://storage.googleapis.com/tensorflow/tf-keras-datasets/mnist.npz\n",
            "\u001b[1m11490434/11490434\u001b[0m \u001b[32m━━━━━━━━━━━━━━━━━━━━\u001b[0m\u001b[37m\u001b[0m \u001b[1m0s\u001b[0m 0us/step\n"
          ]
        }
      ],
      "source": [
        "(x_train, y_train), (x_test, y_test) = mnist.load_data()"
      ]
    },
    {
      "cell_type": "code",
      "execution_count": 4,
      "metadata": {
        "id": "FH9ur-AgTDDw"
      },
      "outputs": [],
      "source": [
        "## Data Nomralization (0-1)\n",
        "x_train = x_train.astype('float32') / 255.0\n",
        "x_test  = x_test.astype('float32') / 255.0"
      ]
    },
    {
      "cell_type": "code",
      "execution_count": 5,
      "metadata": {
        "colab": {
          "base_uri": "https://localhost:8080/"
        },
        "id": "BcUgxMY6dEW-",
        "outputId": "90613f5d-87bb-446c-8da0-2e6000d7e813"
      },
      "outputs": [
        {
          "output_type": "execute_result",
          "data": {
            "text/plain": [
              "(60000, 28, 28)"
            ]
          },
          "metadata": {},
          "execution_count": 5
        }
      ],
      "source": [
        "x_train.shape"
      ]
    },
    {
      "cell_type": "markdown",
      "metadata": {
        "id": "fmvmjDaWyHC4"
      },
      "source": [
        "##**SVM Model**"
      ]
    },
    {
      "cell_type": "code",
      "execution_count": 6,
      "metadata": {
        "colab": {
          "base_uri": "https://localhost:8080/"
        },
        "id": "yxO1GJ_4yOD8",
        "outputId": "193baf24-1120-4a20-9b0c-af4a26ed75f5"
      },
      "outputs": [
        {
          "output_type": "stream",
          "name": "stdout",
          "text": [
            "Accuracy: 0.9548\n"
          ]
        }
      ],
      "source": [
        "x_train_svm = x_train.reshape(-1,28*28).astype('float32') #make ot 1D\n",
        "x_test_svm = x_test.reshape(-1,28*28).astype('float32')\n",
        "x_train_sub = x_train_svm[:15000] #25% of the dataset for speed\n",
        "x_test_sub = x_test_svm[:2500]\n",
        "y_train_sub = y_train[:15000]\n",
        "y_test_sub = y_test[:2500]\n",
        "SVM_model = SVC()\n",
        "svm_model = SVC(kernel='rbf', C=5)\n",
        "svm_model.fit(x_train_sub, y_train_sub)\n",
        "y_pred = svm_model.predict(x_test_sub)\n",
        "\n",
        "# Metrics\n",
        "print(\"Accuracy:\", accuracy_score(y_test_sub, y_pred))"
      ]
    },
    {
      "cell_type": "code",
      "execution_count": 7,
      "metadata": {
        "id": "njjpuxgcdSY_"
      },
      "outputs": [],
      "source": [
        "# Reshape to (28, 28, 1) => Adds a channel dimension at the end so the shape that represensts grayscale\n",
        "import numpy as np\n",
        "x_train = np.expand_dims(x_train, -1)\n",
        "x_test  = np.expand_dims(x_test, -1)"
      ]
    },
    {
      "cell_type": "code",
      "execution_count": 8,
      "metadata": {
        "colab": {
          "base_uri": "https://localhost:8080/"
        },
        "id": "6SoLxCOpmqSR",
        "outputId": "917a7e84-648d-4f6c-8dab-5a3d9dadb37e"
      },
      "outputs": [
        {
          "output_type": "execute_result",
          "data": {
            "text/plain": [
              "((60000, 28, 28, 1), (10000, 28, 28, 1))"
            ]
          },
          "metadata": {},
          "execution_count": 8
        }
      ],
      "source": [
        "x_train.shape, x_test.shape"
      ]
    },
    {
      "cell_type": "code",
      "execution_count": 9,
      "metadata": {
        "id": "yNUkUEYLmw2C"
      },
      "outputs": [],
      "source": [
        "# mapping the labels as an array of 1 and 0's where 1 represnets the index of the correct class\n",
        "from tensorflow.keras.utils import to_categorical\n",
        "y_train_cat = to_categorical(y_train, 10)\n",
        "y_test_cat  = to_categorical(y_test, 10)\n"
      ]
    },
    {
      "cell_type": "code",
      "execution_count": 10,
      "metadata": {
        "colab": {
          "base_uri": "https://localhost:8080/"
        },
        "id": "beBpDrRl3mo_",
        "outputId": "a1d6fc3a-e244-4424-bcdf-226eb5f810db"
      },
      "outputs": [
        {
          "output_type": "execute_result",
          "data": {
            "text/plain": [
              "np.uint8(5)"
            ]
          },
          "metadata": {},
          "execution_count": 10
        }
      ],
      "source": [
        "y_train[0]"
      ]
    },
    {
      "cell_type": "code",
      "execution_count": 11,
      "metadata": {
        "colab": {
          "base_uri": "https://localhost:8080/"
        },
        "id": "_lBuLn1E3ovu",
        "outputId": "328e234a-e864-405c-d842-3bdf65e12d77"
      },
      "outputs": [
        {
          "output_type": "execute_result",
          "data": {
            "text/plain": [
              "array([0., 0., 0., 0., 0., 1., 0., 0., 0., 0.])"
            ]
          },
          "metadata": {},
          "execution_count": 11
        }
      ],
      "source": [
        "y_train_cat[0]"
      ]
    },
    {
      "cell_type": "markdown",
      "metadata": {
        "id": "ZBRa4x8E9eGi"
      },
      "source": [
        "## Models Configuration and Settings builder function"
      ]
    },
    {
      "cell_type": "code",
      "execution_count": 12,
      "metadata": {
        "id": "DGKk7_AB3vU3"
      },
      "outputs": [],
      "source": [
        "# ANN model builder\n",
        "def build_ann(hidden_units, optimizer, lr, activation=\"relu\"):\n",
        "    model = Sequential(\n",
        "        [\n",
        "            Flatten(input_shape=(28, 28, 1)),\n",
        "            Dense(hidden_units, activation=activation),\n",
        "            Dense(10, activation=\"softmax\"),\n",
        "        ]\n",
        "    )\n",
        "    model.compile(\n",
        "        optimizer=optimizer(learning_rate=lr),\n",
        "        loss=\"categorical_crossentropy\",\n",
        "        metrics=[\"accuracy\"],\n",
        "    )\n",
        "    return model"
      ]
    },
    {
      "cell_type": "code",
      "execution_count": 13,
      "metadata": {
        "id": "WHye5obu4mgu"
      },
      "outputs": [],
      "source": [
        "# CNN model builder\n",
        "def build_cnn(filters, lr, optimizer, activation=\"relu\", use_dropout=False,  dropout_value=0.2,use_pooling=True):\n",
        "    model = Sequential()\n",
        "    model.add(Conv2D(filters, (3, 3), activation=activation, input_shape=(28, 28, 1)))\n",
        "    if use_pooling:\n",
        "        model.add(MaxPooling2D(pool_size=(2, 2), strides=(2, 2)))\n",
        "    if use_dropout:\n",
        "        model.add(Dropout(dropout_value))\n",
        "    model.add(Flatten())\n",
        "    model.add(Dense(128, activation=activation))\n",
        "    model.add(Dense(10, activation=\"softmax\"))\n",
        "    model.compile(\n",
        "        optimizer=optimizer(learning_rate=lr),\n",
        "        loss=\"categorical_crossentropy\",\n",
        "        metrics=[\"accuracy\"],\n",
        "    )\n",
        "    return model"
      ]
    },
    {
      "cell_type": "markdown",
      "metadata": {
        "id": "VhnIVVn79yeQ"
      },
      "source": [
        "## ANN Model training for each different parameters\n",
        "\n",
        "\n"
      ]
    },
    {
      "cell_type": "code",
      "execution_count": 23,
      "metadata": {
        "colab": {
          "base_uri": "https://localhost:8080/"
        },
        "id": "Z4Xjz3RQ-50P",
        "outputId": "3e29f6ff-e3d0-4df9-aec6-11e574b8b968"
      },
      "outputs": [
        {
          "output_type": "stream",
          "name": "stdout",
          "text": [
            "Epoch 1/10\n",
            "\u001b[1m1875/1875\u001b[0m \u001b[32m━━━━━━━━━━━━━━━━━━━━\u001b[0m\u001b[37m\u001b[0m \u001b[1m4s\u001b[0m 2ms/step - accuracy: 0.7223 - loss: 1.0435 - val_accuracy: 0.8956 - val_loss: 0.3720\n",
            "Epoch 2/10\n",
            "\u001b[1m1875/1875\u001b[0m \u001b[32m━━━━━━━━━━━━━━━━━━━━\u001b[0m\u001b[37m\u001b[0m \u001b[1m3s\u001b[0m 2ms/step - accuracy: 0.8940 - loss: 0.3716 - val_accuracy: 0.9109 - val_loss: 0.3129\n",
            "Epoch 3/10\n",
            "\u001b[1m1875/1875\u001b[0m \u001b[32m━━━━━━━━━━━━━━━━━━━━\u001b[0m\u001b[37m\u001b[0m \u001b[1m3s\u001b[0m 2ms/step - accuracy: 0.9066 - loss: 0.3233 - val_accuracy: 0.9211 - val_loss: 0.2858\n",
            "Epoch 4/10\n",
            "\u001b[1m1875/1875\u001b[0m \u001b[32m━━━━━━━━━━━━━━━━━━━━\u001b[0m\u001b[37m\u001b[0m \u001b[1m4s\u001b[0m 2ms/step - accuracy: 0.9163 - loss: 0.2929 - val_accuracy: 0.9228 - val_loss: 0.2695\n",
            "Epoch 5/10\n",
            "\u001b[1m1875/1875\u001b[0m \u001b[32m━━━━━━━━━━━━━━━━━━━━\u001b[0m\u001b[37m\u001b[0m \u001b[1m4s\u001b[0m 2ms/step - accuracy: 0.9233 - loss: 0.2750 - val_accuracy: 0.9286 - val_loss: 0.2508\n",
            "Epoch 6/10\n",
            "\u001b[1m1875/1875\u001b[0m \u001b[32m━━━━━━━━━━━━━━━━━━━━\u001b[0m\u001b[37m\u001b[0m \u001b[1m3s\u001b[0m 2ms/step - accuracy: 0.9284 - loss: 0.2530 - val_accuracy: 0.9313 - val_loss: 0.2380\n",
            "Epoch 7/10\n",
            "\u001b[1m1875/1875\u001b[0m \u001b[32m━━━━━━━━━━━━━━━━━━━━\u001b[0m\u001b[37m\u001b[0m \u001b[1m3s\u001b[0m 2ms/step - accuracy: 0.9331 - loss: 0.2359 - val_accuracy: 0.9347 - val_loss: 0.2235\n",
            "Epoch 8/10\n",
            "\u001b[1m1875/1875\u001b[0m \u001b[32m━━━━━━━━━━━━━━━━━━━━\u001b[0m\u001b[37m\u001b[0m \u001b[1m3s\u001b[0m 2ms/step - accuracy: 0.9380 - loss: 0.2227 - val_accuracy: 0.9362 - val_loss: 0.2125\n",
            "Epoch 9/10\n",
            "\u001b[1m1875/1875\u001b[0m \u001b[32m━━━━━━━━━━━━━━━━━━━━\u001b[0m\u001b[37m\u001b[0m \u001b[1m3s\u001b[0m 2ms/step - accuracy: 0.9391 - loss: 0.2126 - val_accuracy: 0.9412 - val_loss: 0.2030\n",
            "Epoch 10/10\n",
            "\u001b[1m1875/1875\u001b[0m \u001b[32m━━━━━━━━━━━━━━━━━━━━\u001b[0m\u001b[37m\u001b[0m \u001b[1m3s\u001b[0m 2ms/step - accuracy: 0.9446 - loss: 0.1968 - val_accuracy: 0.9434 - val_loss: 0.1909\n",
            "\n",
            "Average time per epoch: 3.49 seconds\n"
          ]
        }
      ],
      "source": [
        "# ANN model 1 => 64 neuron unit / SGD optimizer / 0.01 LR\n",
        "ann_model1 = build_ann(64, SGD, 0.01)\n",
        "start_time = time.time()\n",
        "\n",
        "ann_model1.fit(\n",
        "    x_train, y_train_cat,\n",
        "    batch_size=32,\n",
        "    epochs=10,\n",
        "    validation_data=(x_test, y_test_cat),\n",
        "    shuffle=True\n",
        ")\n",
        "\n",
        "total_time = time.time() - start_time\n",
        "print(f\"\\nAverage time per epoch: {total_time/10:.2f} seconds\")"
      ]
    },
    {
      "cell_type": "code",
      "execution_count": 24,
      "metadata": {
        "id": "Q88mp4dPhWdu",
        "colab": {
          "base_uri": "https://localhost:8080/"
        },
        "outputId": "8b731e29-39c6-4e5a-b9dc-9f9fbda2fc26"
      },
      "outputs": [
        {
          "output_type": "stream",
          "name": "stdout",
          "text": [
            "\u001b[1m313/313\u001b[0m \u001b[32m━━━━━━━━━━━━━━━━━━━━\u001b[0m\u001b[37m\u001b[0m \u001b[1m0s\u001b[0m 1ms/step - accuracy: 0.9336 - loss: 0.2219\n"
          ]
        }
      ],
      "source": [
        "val_loss, val_accuracy = ann_model1.evaluate(x_test, y_test_cat)"
      ]
    },
    {
      "cell_type": "code",
      "execution_count": 25,
      "metadata": {
        "colab": {
          "base_uri": "https://localhost:8080/"
        },
        "id": "y05rhEUS_LOc",
        "outputId": "498b3065-f1f0-448a-ba1b-83537f1e165a"
      },
      "outputs": [
        {
          "output_type": "stream",
          "name": "stdout",
          "text": [
            "Epoch 1/10\n",
            "\u001b[1m1875/1875\u001b[0m \u001b[32m━━━━━━━━━━━━━━━━━━━━\u001b[0m\u001b[37m\u001b[0m \u001b[1m4s\u001b[0m 2ms/step - accuracy: 0.7283 - loss: 1.0345 - val_accuracy: 0.9036 - val_loss: 0.3586\n",
            "Epoch 2/10\n",
            "\u001b[1m1875/1875\u001b[0m \u001b[32m━━━━━━━━━━━━━━━━━━━━\u001b[0m\u001b[37m\u001b[0m \u001b[1m4s\u001b[0m 2ms/step - accuracy: 0.9007 - loss: 0.3539 - val_accuracy: 0.9140 - val_loss: 0.2978\n",
            "Epoch 3/10\n",
            "\u001b[1m1875/1875\u001b[0m \u001b[32m━━━━━━━━━━━━━━━━━━━━\u001b[0m\u001b[37m\u001b[0m \u001b[1m4s\u001b[0m 2ms/step - accuracy: 0.9179 - loss: 0.2923 - val_accuracy: 0.9267 - val_loss: 0.2641\n",
            "Epoch 4/10\n",
            "\u001b[1m1875/1875\u001b[0m \u001b[32m━━━━━━━━━━━━━━━━━━━━\u001b[0m\u001b[37m\u001b[0m \u001b[1m4s\u001b[0m 2ms/step - accuracy: 0.9248 - loss: 0.2667 - val_accuracy: 0.9329 - val_loss: 0.2421\n",
            "Epoch 5/10\n",
            "\u001b[1m1875/1875\u001b[0m \u001b[32m━━━━━━━━━━━━━━━━━━━━\u001b[0m\u001b[37m\u001b[0m \u001b[1m4s\u001b[0m 2ms/step - accuracy: 0.9299 - loss: 0.2457 - val_accuracy: 0.9357 - val_loss: 0.2247\n",
            "Epoch 6/10\n",
            "\u001b[1m1875/1875\u001b[0m \u001b[32m━━━━━━━━━━━━━━━━━━━━\u001b[0m\u001b[37m\u001b[0m \u001b[1m4s\u001b[0m 2ms/step - accuracy: 0.9368 - loss: 0.2247 - val_accuracy: 0.9388 - val_loss: 0.2116\n",
            "Epoch 7/10\n",
            "\u001b[1m1875/1875\u001b[0m \u001b[32m━━━━━━━━━━━━━━━━━━━━\u001b[0m\u001b[37m\u001b[0m \u001b[1m4s\u001b[0m 2ms/step - accuracy: 0.9426 - loss: 0.2056 - val_accuracy: 0.9430 - val_loss: 0.1953\n",
            "Epoch 8/10\n",
            "\u001b[1m1875/1875\u001b[0m \u001b[32m━━━━━━━━━━━━━━━━━━━━\u001b[0m\u001b[37m\u001b[0m \u001b[1m4s\u001b[0m 2ms/step - accuracy: 0.9443 - loss: 0.1958 - val_accuracy: 0.9457 - val_loss: 0.1852\n",
            "Epoch 9/10\n",
            "\u001b[1m1875/1875\u001b[0m \u001b[32m━━━━━━━━━━━━━━━━━━━━\u001b[0m\u001b[37m\u001b[0m \u001b[1m4s\u001b[0m 2ms/step - accuracy: 0.9495 - loss: 0.1811 - val_accuracy: 0.9493 - val_loss: 0.1770\n",
            "Epoch 10/10\n",
            "\u001b[1m1875/1875\u001b[0m \u001b[32m━━━━━━━━━━━━━━━━━━━━\u001b[0m\u001b[37m\u001b[0m \u001b[1m4s\u001b[0m 2ms/step - accuracy: 0.9523 - loss: 0.1751 - val_accuracy: 0.9519 - val_loss: 0.1661\n",
            "\n",
            "Average time per epoch: 3.93 seconds\n"
          ]
        }
      ],
      "source": [
        "# ANN model 2 => 128 neuron unit / SGD optimizer / 0.01 LR\n",
        "ann_model2 = build_ann(128, SGD, 0.01)\n",
        "start_time = time.time()\n",
        "\n",
        "ann_model2.fit(\n",
        "    x_train, y_train_cat,\n",
        "    batch_size=32,\n",
        "    epochs=10,\n",
        "    validation_data=(x_test, y_test_cat),\n",
        "    shuffle=True\n",
        ")\n",
        "\n",
        "total_time = time.time() - start_time\n",
        "print(f\"\\nAverage time per epoch: {total_time/10:.2f} seconds\")"
      ]
    },
    {
      "cell_type": "code",
      "execution_count": 26,
      "metadata": {
        "id": "rLRhtYyoh5yh",
        "colab": {
          "base_uri": "https://localhost:8080/"
        },
        "outputId": "97743a4a-5aed-4f6b-c0fb-b810f691f588"
      },
      "outputs": [
        {
          "output_type": "stream",
          "name": "stdout",
          "text": [
            "\u001b[1m313/313\u001b[0m \u001b[32m━━━━━━━━━━━━━━━━━━━━\u001b[0m\u001b[37m\u001b[0m \u001b[1m0s\u001b[0m 1ms/step - accuracy: 0.9436 - loss: 0.1931\n"
          ]
        }
      ],
      "source": [
        "val_loss, val_accuracy = ann_model2.evaluate(x_test, y_test_cat)"
      ]
    },
    {
      "cell_type": "code",
      "execution_count": 27,
      "metadata": {
        "id": "_p8r8jXO_oMw",
        "colab": {
          "base_uri": "https://localhost:8080/"
        },
        "outputId": "78208159-95a3-456a-e657-fd7d3deac981"
      },
      "outputs": [
        {
          "output_type": "stream",
          "name": "stdout",
          "text": [
            "Epoch 1/10\n",
            "\u001b[1m1875/1875\u001b[0m \u001b[32m━━━━━━━━━━━━━━━━━━━━\u001b[0m\u001b[37m\u001b[0m \u001b[1m6s\u001b[0m 3ms/step - accuracy: 0.8807 - loss: 0.4290 - val_accuracy: 0.9602 - val_loss: 0.1341\n",
            "Epoch 2/10\n",
            "\u001b[1m1875/1875\u001b[0m \u001b[32m━━━━━━━━━━━━━━━━━━━━\u001b[0m\u001b[37m\u001b[0m \u001b[1m5s\u001b[0m 2ms/step - accuracy: 0.9651 - loss: 0.1185 - val_accuracy: 0.9683 - val_loss: 0.1071\n",
            "Epoch 3/10\n",
            "\u001b[1m1875/1875\u001b[0m \u001b[32m━━━━━━━━━━━━━━━━━━━━\u001b[0m\u001b[37m\u001b[0m \u001b[1m5s\u001b[0m 3ms/step - accuracy: 0.9763 - loss: 0.0782 - val_accuracy: 0.9755 - val_loss: 0.0818\n",
            "Epoch 4/10\n",
            "\u001b[1m1875/1875\u001b[0m \u001b[32m━━━━━━━━━━━━━━━━━━━━\u001b[0m\u001b[37m\u001b[0m \u001b[1m5s\u001b[0m 3ms/step - accuracy: 0.9821 - loss: 0.0585 - val_accuracy: 0.9753 - val_loss: 0.0807\n",
            "Epoch 5/10\n",
            "\u001b[1m1875/1875\u001b[0m \u001b[32m━━━━━━━━━━━━━━━━━━━━\u001b[0m\u001b[37m\u001b[0m \u001b[1m5s\u001b[0m 3ms/step - accuracy: 0.9867 - loss: 0.0437 - val_accuracy: 0.9759 - val_loss: 0.0803\n",
            "Epoch 6/10\n",
            "\u001b[1m1875/1875\u001b[0m \u001b[32m━━━━━━━━━━━━━━━━━━━━\u001b[0m\u001b[37m\u001b[0m \u001b[1m5s\u001b[0m 2ms/step - accuracy: 0.9903 - loss: 0.0325 - val_accuracy: 0.9765 - val_loss: 0.0813\n",
            "Epoch 7/10\n",
            "\u001b[1m1875/1875\u001b[0m \u001b[32m━━━━━━━━━━━━━━━━━━━━\u001b[0m\u001b[37m\u001b[0m \u001b[1m5s\u001b[0m 2ms/step - accuracy: 0.9909 - loss: 0.0280 - val_accuracy: 0.9761 - val_loss: 0.0761\n",
            "Epoch 8/10\n",
            "\u001b[1m1875/1875\u001b[0m \u001b[32m━━━━━━━━━━━━━━━━━━━━\u001b[0m\u001b[37m\u001b[0m \u001b[1m5s\u001b[0m 2ms/step - accuracy: 0.9928 - loss: 0.0234 - val_accuracy: 0.9784 - val_loss: 0.0780\n",
            "Epoch 9/10\n",
            "\u001b[1m1875/1875\u001b[0m \u001b[32m━━━━━━━━━━━━━━━━━━━━\u001b[0m\u001b[37m\u001b[0m \u001b[1m5s\u001b[0m 3ms/step - accuracy: 0.9952 - loss: 0.0168 - val_accuracy: 0.9773 - val_loss: 0.0793\n",
            "Epoch 10/10\n",
            "\u001b[1m1875/1875\u001b[0m \u001b[32m━━━━━━━━━━━━━━━━━━━━\u001b[0m\u001b[37m\u001b[0m \u001b[1m5s\u001b[0m 3ms/step - accuracy: 0.9959 - loss: 0.0140 - val_accuracy: 0.9762 - val_loss: 0.0909\n",
            "\n",
            "Average time per epoch: 4.83 seconds\n"
          ]
        }
      ],
      "source": [
        "# ANN model 3 => 128 neuron unit / Adam optimizer / 0.001 LR\n",
        "ann_model3 = build_ann(128, Adam, 0.001)\n",
        "start_time = time.time()\n",
        "\n",
        "ann_model3.fit(\n",
        "    x_train, y_train_cat,\n",
        "    batch_size=32,\n",
        "    epochs=10,\n",
        "    validation_data=(x_test, y_test_cat),\n",
        "    shuffle=True\n",
        ")\n",
        "\n",
        "total_time = time.time() - start_time\n",
        "print(f\"\\nAverage time per epoch: {total_time/10:.2f} seconds\")"
      ]
    },
    {
      "cell_type": "code",
      "execution_count": 28,
      "metadata": {
        "id": "4ertVWGECn_a",
        "colab": {
          "base_uri": "https://localhost:8080/"
        },
        "outputId": "4fca72a9-6f83-46ac-ee3a-aae890613e0b"
      },
      "outputs": [
        {
          "output_type": "stream",
          "name": "stdout",
          "text": [
            "\u001b[1m313/313\u001b[0m \u001b[32m━━━━━━━━━━━━━━━━━━━━\u001b[0m\u001b[37m\u001b[0m \u001b[1m0s\u001b[0m 1ms/step - accuracy: 0.9724 - loss: 0.1067\n"
          ]
        }
      ],
      "source": [
        "val_loss, val_accuracy = ann_model3.evaluate(x_test, y_test_cat)"
      ]
    },
    {
      "cell_type": "code",
      "execution_count": 29,
      "metadata": {
        "id": "A1FDZmCSJkKb",
        "colab": {
          "base_uri": "https://localhost:8080/"
        },
        "outputId": "1e0338e1-7f46-400f-c284-512851f6de58"
      },
      "outputs": [
        {
          "output_type": "stream",
          "name": "stdout",
          "text": [
            "Epoch 1/10\n",
            "\u001b[1m1875/1875\u001b[0m \u001b[32m━━━━━━━━━━━━━━━━━━━━\u001b[0m\u001b[37m\u001b[0m \u001b[1m6s\u001b[0m 3ms/step - accuracy: 0.8936 - loss: 0.3692 - val_accuracy: 0.9654 - val_loss: 0.1142\n",
            "Epoch 2/10\n",
            "\u001b[1m1875/1875\u001b[0m \u001b[32m━━━━━━━━━━━━━━━━━━━━\u001b[0m\u001b[37m\u001b[0m \u001b[1m5s\u001b[0m 3ms/step - accuracy: 0.9694 - loss: 0.1033 - val_accuracy: 0.9728 - val_loss: 0.0933\n",
            "Epoch 3/10\n",
            "\u001b[1m1875/1875\u001b[0m \u001b[32m━━━━━━━━━━━━━━━━━━━━\u001b[0m\u001b[37m\u001b[0m \u001b[1m5s\u001b[0m 3ms/step - accuracy: 0.9789 - loss: 0.0682 - val_accuracy: 0.9735 - val_loss: 0.0878\n",
            "Epoch 4/10\n",
            "\u001b[1m1875/1875\u001b[0m \u001b[32m━━━━━━━━━━━━━━━━━━━━\u001b[0m\u001b[37m\u001b[0m \u001b[1m5s\u001b[0m 3ms/step - accuracy: 0.9845 - loss: 0.0528 - val_accuracy: 0.9789 - val_loss: 0.0743\n",
            "Epoch 5/10\n",
            "\u001b[1m1875/1875\u001b[0m \u001b[32m━━━━━━━━━━━━━━━━━━━━\u001b[0m\u001b[37m\u001b[0m \u001b[1m5s\u001b[0m 3ms/step - accuracy: 0.9883 - loss: 0.0421 - val_accuracy: 0.9789 - val_loss: 0.0722\n",
            "Epoch 6/10\n",
            "\u001b[1m1875/1875\u001b[0m \u001b[32m━━━━━━━━━━━━━━━━━━━━\u001b[0m\u001b[37m\u001b[0m \u001b[1m5s\u001b[0m 3ms/step - accuracy: 0.9907 - loss: 0.0319 - val_accuracy: 0.9801 - val_loss: 0.0737\n",
            "Epoch 7/10\n",
            "\u001b[1m1875/1875\u001b[0m \u001b[32m━━━━━━━━━━━━━━━━━━━━\u001b[0m\u001b[37m\u001b[0m \u001b[1m5s\u001b[0m 2ms/step - accuracy: 0.9919 - loss: 0.0275 - val_accuracy: 0.9785 - val_loss: 0.0797\n",
            "Epoch 8/10\n",
            "\u001b[1m1875/1875\u001b[0m \u001b[32m━━━━━━━━━━━━━━━━━━━━\u001b[0m\u001b[37m\u001b[0m \u001b[1m5s\u001b[0m 3ms/step - accuracy: 0.9933 - loss: 0.0219 - val_accuracy: 0.9812 - val_loss: 0.0718\n",
            "Epoch 9/10\n",
            "\u001b[1m1875/1875\u001b[0m \u001b[32m━━━━━━━━━━━━━━━━━━━━\u001b[0m\u001b[37m\u001b[0m \u001b[1m5s\u001b[0m 3ms/step - accuracy: 0.9948 - loss: 0.0176 - val_accuracy: 0.9804 - val_loss: 0.0839\n",
            "Epoch 10/10\n",
            "\u001b[1m1875/1875\u001b[0m \u001b[32m━━━━━━━━━━━━━━━━━━━━\u001b[0m\u001b[37m\u001b[0m \u001b[1m5s\u001b[0m 3ms/step - accuracy: 0.9961 - loss: 0.0137 - val_accuracy: 0.9774 - val_loss: 0.1020\n",
            "\n",
            "Average time per epoch: 5.06 seconds\n"
          ]
        }
      ],
      "source": [
        "# ANN model 4 => 256 neuron unit / RMSprop optimizer / 0.001 LR\n",
        "ann_model4 = build_ann(256, RMSprop, 0.001)\n",
        "start_time = time.time()\n",
        "\n",
        "ann_model4.fit(\n",
        "    x_train, y_train_cat,\n",
        "    batch_size=32,\n",
        "    epochs=10,\n",
        "    validation_data=(x_test, y_test_cat),\n",
        "    shuffle=True\n",
        ")\n",
        "\n",
        "total_time = time.time() - start_time\n",
        "print(f\"\\nAverage time per epoch: {total_time/10:.2f} seconds\")"
      ]
    },
    {
      "cell_type": "code",
      "execution_count": 30,
      "metadata": {
        "id": "AILpaLC5JMMz",
        "colab": {
          "base_uri": "https://localhost:8080/"
        },
        "outputId": "ba533ab8-d58d-49b2-9ab1-6b1d5c31a2a8"
      },
      "outputs": [
        {
          "output_type": "stream",
          "name": "stdout",
          "text": [
            "\u001b[1m313/313\u001b[0m \u001b[32m━━━━━━━━━━━━━━━━━━━━\u001b[0m\u001b[37m\u001b[0m \u001b[1m0s\u001b[0m 1ms/step - accuracy: 0.9736 - loss: 0.1268\n"
          ]
        }
      ],
      "source": [
        "val_loss, val_accuracy = ann_model4.evaluate(x_test, y_test_cat)"
      ]
    },
    {
      "cell_type": "code",
      "execution_count": 31,
      "metadata": {
        "colab": {
          "base_uri": "https://localhost:8080/"
        },
        "id": "iwkQbh_IKbX3",
        "outputId": "6e623fb9-cc3a-492d-d89c-df4817829843"
      },
      "outputs": [
        {
          "output_type": "stream",
          "name": "stdout",
          "text": [
            "Epoch 1/10\n",
            "\u001b[1m1875/1875\u001b[0m \u001b[32m━━━━━━━━━━━━━━━━━━━━\u001b[0m\u001b[37m\u001b[0m \u001b[1m5s\u001b[0m 2ms/step - accuracy: 0.8698 - loss: 0.4580 - val_accuracy: 0.9515 - val_loss: 0.1651\n",
            "Epoch 2/10\n",
            "\u001b[1m1875/1875\u001b[0m \u001b[32m━━━━━━━━━━━━━━━━━━━━\u001b[0m\u001b[37m\u001b[0m \u001b[1m4s\u001b[0m 2ms/step - accuracy: 0.9567 - loss: 0.1515 - val_accuracy: 0.9645 - val_loss: 0.1171\n",
            "Epoch 3/10\n",
            "\u001b[1m1875/1875\u001b[0m \u001b[32m━━━━━━━━━━━━━━━━━━━━\u001b[0m\u001b[37m\u001b[0m \u001b[1m4s\u001b[0m 2ms/step - accuracy: 0.9693 - loss: 0.1050 - val_accuracy: 0.9670 - val_loss: 0.1060\n",
            "Epoch 4/10\n",
            "\u001b[1m1875/1875\u001b[0m \u001b[32m━━━━━━━━━━━━━━━━━━━━\u001b[0m\u001b[37m\u001b[0m \u001b[1m4s\u001b[0m 2ms/step - accuracy: 0.9772 - loss: 0.0798 - val_accuracy: 0.9741 - val_loss: 0.0859\n",
            "Epoch 5/10\n",
            "\u001b[1m1875/1875\u001b[0m \u001b[32m━━━━━━━━━━━━━━━━━━━━\u001b[0m\u001b[37m\u001b[0m \u001b[1m4s\u001b[0m 2ms/step - accuracy: 0.9832 - loss: 0.0628 - val_accuracy: 0.9785 - val_loss: 0.0734\n",
            "Epoch 6/10\n",
            "\u001b[1m1875/1875\u001b[0m \u001b[32m━━━━━━━━━━━━━━━━━━━━\u001b[0m\u001b[37m\u001b[0m \u001b[1m4s\u001b[0m 2ms/step - accuracy: 0.9849 - loss: 0.0517 - val_accuracy: 0.9770 - val_loss: 0.0756\n",
            "Epoch 7/10\n",
            "\u001b[1m1875/1875\u001b[0m \u001b[32m━━━━━━━━━━━━━━━━━━━━\u001b[0m\u001b[37m\u001b[0m \u001b[1m4s\u001b[0m 2ms/step - accuracy: 0.9870 - loss: 0.0453 - val_accuracy: 0.9783 - val_loss: 0.0705\n",
            "Epoch 8/10\n",
            "\u001b[1m1875/1875\u001b[0m \u001b[32m━━━━━━━━━━━━━━━━━━━━\u001b[0m\u001b[37m\u001b[0m \u001b[1m4s\u001b[0m 2ms/step - accuracy: 0.9894 - loss: 0.0386 - val_accuracy: 0.9772 - val_loss: 0.0719\n",
            "Epoch 9/10\n",
            "\u001b[1m1875/1875\u001b[0m \u001b[32m━━━━━━━━━━━━━━━━━━━━\u001b[0m\u001b[37m\u001b[0m \u001b[1m4s\u001b[0m 2ms/step - accuracy: 0.9914 - loss: 0.0333 - val_accuracy: 0.9795 - val_loss: 0.0665\n",
            "Epoch 10/10\n",
            "\u001b[1m1875/1875\u001b[0m \u001b[32m━━━━━━━━━━━━━━━━━━━━\u001b[0m\u001b[37m\u001b[0m \u001b[1m4s\u001b[0m 2ms/step - accuracy: 0.9920 - loss: 0.0304 - val_accuracy: 0.9752 - val_loss: 0.0780\n",
            "\n",
            "Average time per epoch: 3.99 seconds\n"
          ]
        }
      ],
      "source": [
        "# ANN model 5 => 128 neuron unit / SGD optimizer / 0.1 LR\n",
        "ann_model5 = build_ann(128, SGD, 0.1)\n",
        "start_time = time.time()\n",
        "\n",
        "ann_model5.fit(\n",
        "    x_train, y_train_cat,\n",
        "    batch_size=32,\n",
        "    epochs=10,\n",
        "    validation_data=(x_test, y_test_cat),\n",
        "    shuffle=True\n",
        ")\n",
        "\n",
        "total_time = time.time() - start_time\n",
        "print(f\"\\nAverage time per epoch: {total_time/10:.2f} seconds\")"
      ]
    },
    {
      "cell_type": "code",
      "execution_count": 32,
      "metadata": {
        "id": "zfKzdvO7jdQL",
        "colab": {
          "base_uri": "https://localhost:8080/"
        },
        "outputId": "c9cf7e19-8459-4d0b-c66d-1c13841d71f5"
      },
      "outputs": [
        {
          "output_type": "stream",
          "name": "stdout",
          "text": [
            "\u001b[1m313/313\u001b[0m \u001b[32m━━━━━━━━━━━━━━━━━━━━\u001b[0m\u001b[37m\u001b[0m \u001b[1m0s\u001b[0m 1ms/step - accuracy: 0.9707 - loss: 0.0932\n"
          ]
        }
      ],
      "source": [
        "val_loss, val_accuracy = ann_model5.evaluate(x_test, y_test_cat)"
      ]
    },
    {
      "cell_type": "markdown",
      "metadata": {
        "id": "ELPdYnBmkfao"
      },
      "source": [
        "### ann_model4 was the best with accuracy of 97.66% and loss of 0.1047"
      ]
    },
    {
      "cell_type": "markdown",
      "metadata": {
        "id": "aL-F1P4IjUs_"
      },
      "source": [
        "# CNN Model training for each different parameters\n"
      ]
    },
    {
      "cell_type": "code",
      "execution_count": 33,
      "metadata": {
        "colab": {
          "base_uri": "https://localhost:8080/"
        },
        "id": "FnrSpchRk1x9",
        "outputId": "831b4ac8-a1a5-455c-d8b3-b7c9087e8dec"
      },
      "outputs": [
        {
          "output_type": "stream",
          "name": "stderr",
          "text": [
            "/usr/local/lib/python3.11/dist-packages/keras/src/layers/convolutional/base_conv.py:107: UserWarning: Do not pass an `input_shape`/`input_dim` argument to a layer. When using Sequential models, prefer using an `Input(shape)` object as the first layer in the model instead.\n",
            "  super().__init__(activity_regularizer=activity_regularizer, **kwargs)\n"
          ]
        },
        {
          "output_type": "stream",
          "name": "stdout",
          "text": [
            "Epoch 1/10\n",
            "\u001b[1m938/938\u001b[0m \u001b[32m━━━━━━━━━━━━━━━━━━━━\u001b[0m\u001b[37m\u001b[0m \u001b[1m14s\u001b[0m 15ms/step - accuracy: 0.7050 - loss: 1.1401 - val_accuracy: 0.9170 - val_loss: 0.2836\n",
            "Epoch 2/10\n",
            "\u001b[1m938/938\u001b[0m \u001b[32m━━━━━━━━━━━━━━━━━━━━\u001b[0m\u001b[37m\u001b[0m \u001b[1m14s\u001b[0m 15ms/step - accuracy: 0.9180 - loss: 0.2802 - val_accuracy: 0.9334 - val_loss: 0.2290\n",
            "Epoch 3/10\n",
            "\u001b[1m938/938\u001b[0m \u001b[32m━━━━━━━━━━━━━━━━━━━━\u001b[0m\u001b[37m\u001b[0m \u001b[1m14s\u001b[0m 14ms/step - accuracy: 0.9336 - loss: 0.2289 - val_accuracy: 0.9470 - val_loss: 0.1852\n",
            "Epoch 4/10\n",
            "\u001b[1m938/938\u001b[0m \u001b[32m━━━━━━━━━━━━━━━━━━━━\u001b[0m\u001b[37m\u001b[0m \u001b[1m14s\u001b[0m 14ms/step - accuracy: 0.9445 - loss: 0.1910 - val_accuracy: 0.9527 - val_loss: 0.1623\n",
            "Epoch 5/10\n",
            "\u001b[1m938/938\u001b[0m \u001b[32m━━━━━━━━━━━━━━━━━━━━\u001b[0m\u001b[37m\u001b[0m \u001b[1m14s\u001b[0m 14ms/step - accuracy: 0.9518 - loss: 0.1657 - val_accuracy: 0.9565 - val_loss: 0.1437\n",
            "Epoch 6/10\n",
            "\u001b[1m938/938\u001b[0m \u001b[32m━━━━━━━━━━━━━━━━━━━━\u001b[0m\u001b[37m\u001b[0m \u001b[1m14s\u001b[0m 14ms/step - accuracy: 0.9558 - loss: 0.1480 - val_accuracy: 0.9619 - val_loss: 0.1275\n",
            "Epoch 7/10\n",
            "\u001b[1m938/938\u001b[0m \u001b[32m━━━━━━━━━━━━━━━━━━━━\u001b[0m\u001b[37m\u001b[0m \u001b[1m14s\u001b[0m 14ms/step - accuracy: 0.9603 - loss: 0.1331 - val_accuracy: 0.9645 - val_loss: 0.1177\n",
            "Epoch 8/10\n",
            "\u001b[1m938/938\u001b[0m \u001b[32m━━━━━━━━━━━━━━━━━━━━\u001b[0m\u001b[37m\u001b[0m \u001b[1m14s\u001b[0m 15ms/step - accuracy: 0.9661 - loss: 0.1158 - val_accuracy: 0.9642 - val_loss: 0.1138\n",
            "Epoch 9/10\n",
            "\u001b[1m938/938\u001b[0m \u001b[32m━━━━━━━━━━━━━━━━━━━━\u001b[0m\u001b[37m\u001b[0m \u001b[1m14s\u001b[0m 14ms/step - accuracy: 0.9678 - loss: 0.1102 - val_accuracy: 0.9682 - val_loss: 0.1031\n",
            "Epoch 10/10\n",
            "\u001b[1m938/938\u001b[0m \u001b[32m━━━━━━━━━━━━━━━━━━━━\u001b[0m\u001b[37m\u001b[0m \u001b[1m14s\u001b[0m 14ms/step - accuracy: 0.9709 - loss: 0.0995 - val_accuracy: 0.9690 - val_loss: 0.1016\n",
            "\n",
            "Average time per epoch: 13.69 seconds\n"
          ]
        }
      ],
      "source": [
        "# testing with 10 epochs\n",
        "cnn_model = build_cnn(16, 0.01, SGD, use_dropout=False)\n",
        "start_time = time.time()\n",
        "\n",
        "cnn_model.fit(\n",
        "    x_train, y_train_cat,\n",
        "    batch_size=64,\n",
        "    epochs=10,\n",
        "    validation_data=(x_test, y_test_cat),\n",
        "    shuffle=True\n",
        ")\n",
        "\n",
        "total_time = time.time() - start_time\n",
        "print(f\"\\nAverage time per epoch: {total_time/10:.2f} seconds\")"
      ]
    },
    {
      "cell_type": "code",
      "execution_count": 34,
      "metadata": {
        "colab": {
          "base_uri": "https://localhost:8080/"
        },
        "id": "4F87VtU-tqEc",
        "outputId": "77e26b9e-b98b-44a3-b4e5-4366345a62f7"
      },
      "outputs": [
        {
          "output_type": "stream",
          "name": "stdout",
          "text": [
            "\u001b[1m313/313\u001b[0m \u001b[32m━━━━━━━━━━━━━━━━━━━━\u001b[0m\u001b[37m\u001b[0m \u001b[1m1s\u001b[0m 2ms/step - accuracy: 0.9657 - loss: 0.1128\n"
          ]
        }
      ],
      "source": [
        "val_loss, val_accuracy = cnn_model.evaluate(x_test, y_test_cat)"
      ]
    },
    {
      "cell_type": "code",
      "execution_count": 35,
      "metadata": {
        "colab": {
          "base_uri": "https://localhost:8080/"
        },
        "id": "W_v9PuWwlwPy",
        "outputId": "80b90cc6-3946-4d12-eff5-323609168b10"
      },
      "outputs": [
        {
          "output_type": "stream",
          "name": "stdout",
          "text": [
            "Epoch 1/15\n",
            "\u001b[1m938/938\u001b[0m \u001b[32m━━━━━━━━━━━━━━━━━━━━\u001b[0m\u001b[37m\u001b[0m \u001b[1m14s\u001b[0m 15ms/step - accuracy: 0.6764 - loss: 1.1994 - val_accuracy: 0.9127 - val_loss: 0.3063\n",
            "Epoch 2/15\n",
            "\u001b[1m938/938\u001b[0m \u001b[32m━━━━━━━━━━━━━━━━━━━━\u001b[0m\u001b[37m\u001b[0m \u001b[1m14s\u001b[0m 15ms/step - accuracy: 0.9170 - loss: 0.2928 - val_accuracy: 0.9359 - val_loss: 0.2275\n",
            "Epoch 3/15\n",
            "\u001b[1m938/938\u001b[0m \u001b[32m━━━━━━━━━━━━━━━━━━━━\u001b[0m\u001b[37m\u001b[0m \u001b[1m14s\u001b[0m 14ms/step - accuracy: 0.9333 - loss: 0.2296 - val_accuracy: 0.9432 - val_loss: 0.1961\n",
            "Epoch 4/15\n",
            "\u001b[1m938/938\u001b[0m \u001b[32m━━━━━━━━━━━━━━━━━━━━\u001b[0m\u001b[37m\u001b[0m \u001b[1m14s\u001b[0m 15ms/step - accuracy: 0.9434 - loss: 0.1948 - val_accuracy: 0.9486 - val_loss: 0.1795\n",
            "Epoch 5/15\n",
            "\u001b[1m938/938\u001b[0m \u001b[32m━━━━━━━━━━━━━━━━━━━━\u001b[0m\u001b[37m\u001b[0m \u001b[1m14s\u001b[0m 14ms/step - accuracy: 0.9500 - loss: 0.1730 - val_accuracy: 0.9565 - val_loss: 0.1503\n",
            "Epoch 6/15\n",
            "\u001b[1m938/938\u001b[0m \u001b[32m━━━━━━━━━━━━━━━━━━━━\u001b[0m\u001b[37m\u001b[0m \u001b[1m14s\u001b[0m 14ms/step - accuracy: 0.9570 - loss: 0.1469 - val_accuracy: 0.9595 - val_loss: 0.1345\n",
            "Epoch 7/15\n",
            "\u001b[1m938/938\u001b[0m \u001b[32m━━━━━━━━━━━━━━━━━━━━\u001b[0m\u001b[37m\u001b[0m \u001b[1m14s\u001b[0m 15ms/step - accuracy: 0.9629 - loss: 0.1293 - val_accuracy: 0.9543 - val_loss: 0.1435\n",
            "Epoch 8/15\n",
            "\u001b[1m938/938\u001b[0m \u001b[32m━━━━━━━━━━━━━━━━━━━━\u001b[0m\u001b[37m\u001b[0m \u001b[1m14s\u001b[0m 14ms/step - accuracy: 0.9642 - loss: 0.1215 - val_accuracy: 0.9666 - val_loss: 0.1138\n",
            "Epoch 9/15\n",
            "\u001b[1m938/938\u001b[0m \u001b[32m━━━━━━━━━━━━━━━━━━━━\u001b[0m\u001b[37m\u001b[0m \u001b[1m14s\u001b[0m 14ms/step - accuracy: 0.9673 - loss: 0.1110 - val_accuracy: 0.9627 - val_loss: 0.1230\n",
            "Epoch 10/15\n",
            "\u001b[1m938/938\u001b[0m \u001b[32m━━━━━━━━━━━━━━━━━━━━\u001b[0m\u001b[37m\u001b[0m \u001b[1m13s\u001b[0m 14ms/step - accuracy: 0.9696 - loss: 0.1042 - val_accuracy: 0.9668 - val_loss: 0.1071\n",
            "Epoch 11/15\n",
            "\u001b[1m938/938\u001b[0m \u001b[32m━━━━━━━━━━━━━━━━━━━━\u001b[0m\u001b[37m\u001b[0m \u001b[1m14s\u001b[0m 14ms/step - accuracy: 0.9723 - loss: 0.0933 - val_accuracy: 0.9699 - val_loss: 0.1044\n",
            "Epoch 12/15\n",
            "\u001b[1m938/938\u001b[0m \u001b[32m━━━━━━━━━━━━━━━━━━━━\u001b[0m\u001b[37m\u001b[0m \u001b[1m14s\u001b[0m 14ms/step - accuracy: 0.9750 - loss: 0.0873 - val_accuracy: 0.9714 - val_loss: 0.0962\n",
            "Epoch 13/15\n",
            "\u001b[1m938/938\u001b[0m \u001b[32m━━━━━━━━━━━━━━━━━━━━\u001b[0m\u001b[37m\u001b[0m \u001b[1m14s\u001b[0m 14ms/step - accuracy: 0.9756 - loss: 0.0841 - val_accuracy: 0.9731 - val_loss: 0.0910\n",
            "Epoch 14/15\n",
            "\u001b[1m938/938\u001b[0m \u001b[32m━━━━━━━━━━━━━━━━━━━━\u001b[0m\u001b[37m\u001b[0m \u001b[1m14s\u001b[0m 15ms/step - accuracy: 0.9768 - loss: 0.0780 - val_accuracy: 0.9730 - val_loss: 0.0909\n",
            "Epoch 15/15\n",
            "\u001b[1m938/938\u001b[0m \u001b[32m━━━━━━━━━━━━━━━━━━━━\u001b[0m\u001b[37m\u001b[0m \u001b[1m14s\u001b[0m 15ms/step - accuracy: 0.9786 - loss: 0.0735 - val_accuracy: 0.9751 - val_loss: 0.0836\n",
            "\n",
            "Average time per epoch: 13.68 seconds\n"
          ]
        }
      ],
      "source": [
        "# testing with 15 epochs\n",
        "cnn_model2 = build_cnn(16, 0.01, SGD, use_dropout=False)\n",
        "start_time = time.time()\n",
        "\n",
        "cnn_model2.fit(\n",
        "    x_train, y_train_cat,\n",
        "    batch_size=64,\n",
        "    epochs=15,\n",
        "    validation_data=(x_test, y_test_cat),\n",
        "    shuffle=True\n",
        ")\n",
        "\n",
        "total_time = time.time() - start_time\n",
        "print(f\"\\nAverage time per epoch: {total_time/15:.2f} seconds\")"
      ]
    },
    {
      "cell_type": "code",
      "execution_count": 36,
      "metadata": {
        "colab": {
          "base_uri": "https://localhost:8080/"
        },
        "id": "PmKnDZsRt1QV",
        "outputId": "52e15dd6-4ef1-44bc-b8e0-dac7acb9ceac"
      },
      "outputs": [
        {
          "output_type": "stream",
          "name": "stdout",
          "text": [
            "\u001b[1m313/313\u001b[0m \u001b[32m━━━━━━━━━━━━━━━━━━━━\u001b[0m\u001b[37m\u001b[0m \u001b[1m1s\u001b[0m 2ms/step - accuracy: 0.9716 - loss: 0.0959\n"
          ]
        }
      ],
      "source": [
        "val_loss, val_accuracy = cnn_model2.evaluate(x_test, y_test_cat)"
      ]
    },
    {
      "cell_type": "code",
      "execution_count": 37,
      "metadata": {
        "colab": {
          "base_uri": "https://localhost:8080/"
        },
        "id": "U9_vYwmqlCWQ",
        "outputId": "338dcb93-2b59-4cca-9be4-0d9ba4e907c5"
      },
      "outputs": [
        {
          "output_type": "stream",
          "name": "stdout",
          "text": [
            "Epoch 1/5\n",
            "\u001b[1m938/938\u001b[0m \u001b[32m━━━━━━━━━━━━━━━━━━━━\u001b[0m\u001b[37m\u001b[0m \u001b[1m14s\u001b[0m 15ms/step - accuracy: 0.6840 - loss: 1.1520 - val_accuracy: 0.9142 - val_loss: 0.2972\n",
            "Epoch 2/5\n",
            "\u001b[1m938/938\u001b[0m \u001b[32m━━━━━━━━━━━━━━━━━━━━\u001b[0m\u001b[37m\u001b[0m \u001b[1m15s\u001b[0m 16ms/step - accuracy: 0.9148 - loss: 0.2911 - val_accuracy: 0.9301 - val_loss: 0.2400\n",
            "Epoch 3/5\n",
            "\u001b[1m938/938\u001b[0m \u001b[32m━━━━━━━━━━━━━━━━━━━━\u001b[0m\u001b[37m\u001b[0m \u001b[1m14s\u001b[0m 14ms/step - accuracy: 0.9304 - loss: 0.2384 - val_accuracy: 0.9431 - val_loss: 0.2036\n",
            "Epoch 4/5\n",
            "\u001b[1m938/938\u001b[0m \u001b[32m━━━━━━━━━━━━━━━━━━━━\u001b[0m\u001b[37m\u001b[0m \u001b[1m14s\u001b[0m 14ms/step - accuracy: 0.9409 - loss: 0.1989 - val_accuracy: 0.9505 - val_loss: 0.1698\n",
            "Epoch 5/5\n",
            "\u001b[1m938/938\u001b[0m \u001b[32m━━━━━━━━━━━━━━━━━━━━\u001b[0m\u001b[37m\u001b[0m \u001b[1m14s\u001b[0m 14ms/step - accuracy: 0.9507 - loss: 0.1692 - val_accuracy: 0.9542 - val_loss: 0.1550\n",
            "\n",
            "Average time per epoch: 14.02 seconds\n"
          ]
        }
      ],
      "source": [
        "# testing with 5 epochs\n",
        "cnn_model3 = build_cnn(16, 0.01, SGD, use_dropout=False)\n",
        "start_time = time.time()\n",
        "\n",
        "cnn_model3.fit(\n",
        "    x_train, y_train_cat,\n",
        "    batch_size=64,\n",
        "    epochs=5,\n",
        "    validation_data=(x_test, y_test_cat),\n",
        "    shuffle=True\n",
        ")\n",
        "\n",
        "total_time = time.time() - start_time\n",
        "print(f\"\\nAverage time per epoch: {total_time/5:.2f} seconds\")"
      ]
    },
    {
      "cell_type": "code",
      "execution_count": 38,
      "metadata": {
        "colab": {
          "base_uri": "https://localhost:8080/"
        },
        "id": "cIAnbt3a2glA",
        "outputId": "8db39cb4-7bce-4d66-8efa-e039a6e6c618"
      },
      "outputs": [
        {
          "output_type": "stream",
          "name": "stdout",
          "text": [
            "\u001b[1m313/313\u001b[0m \u001b[32m━━━━━━━━━━━━━━━━━━━━\u001b[0m\u001b[37m\u001b[0m \u001b[1m1s\u001b[0m 2ms/step - accuracy: 0.9475 - loss: 0.1783\n"
          ]
        }
      ],
      "source": [
        "val_loss, val_accuracy = cnn_model3.evaluate(x_test, y_test_cat)"
      ]
    },
    {
      "cell_type": "markdown",
      "metadata": {
        "id": "eUE8PsZtmZFF"
      },
      "source": [
        "#found that 15 epochs is better and now trying different Learning rates(0.001,0.1)"
      ]
    },
    {
      "cell_type": "code",
      "execution_count": 39,
      "metadata": {
        "colab": {
          "base_uri": "https://localhost:8080/"
        },
        "id": "v61YswmEjWoz",
        "outputId": "517489ef-da8d-4aef-e3f1-8cd19e9c3806"
      },
      "outputs": [
        {
          "output_type": "stream",
          "name": "stdout",
          "text": [
            "Epoch 1/15\n",
            "\u001b[1m938/938\u001b[0m \u001b[32m━━━━━━━━━━━━━━━━━━━━\u001b[0m\u001b[37m\u001b[0m \u001b[1m14s\u001b[0m 15ms/step - accuracy: 0.2530 - loss: 2.2091 - val_accuracy: 0.7103 - val_loss: 1.7272\n",
            "Epoch 2/15\n",
            "\u001b[1m938/938\u001b[0m \u001b[32m━━━━━━━━━━━━━━━━━━━━\u001b[0m\u001b[37m\u001b[0m \u001b[1m14s\u001b[0m 15ms/step - accuracy: 0.7360 - loss: 1.4583 - val_accuracy: 0.8333 - val_loss: 0.7612\n",
            "Epoch 3/15\n",
            "\u001b[1m938/938\u001b[0m \u001b[32m━━━━━━━━━━━━━━━━━━━━\u001b[0m\u001b[37m\u001b[0m \u001b[1m14s\u001b[0m 14ms/step - accuracy: 0.8358 - loss: 0.6974 - val_accuracy: 0.8729 - val_loss: 0.5010\n",
            "Epoch 4/15\n",
            "\u001b[1m938/938\u001b[0m \u001b[32m━━━━━━━━━━━━━━━━━━━━\u001b[0m\u001b[37m\u001b[0m \u001b[1m14s\u001b[0m 15ms/step - accuracy: 0.8696 - loss: 0.4984 - val_accuracy: 0.8895 - val_loss: 0.4129\n",
            "Epoch 5/15\n",
            "\u001b[1m938/938\u001b[0m \u001b[32m━━━━━━━━━━━━━━━━━━━━\u001b[0m\u001b[37m\u001b[0m \u001b[1m14s\u001b[0m 14ms/step - accuracy: 0.8824 - loss: 0.4205 - val_accuracy: 0.8977 - val_loss: 0.3696\n",
            "Epoch 6/15\n",
            "\u001b[1m938/938\u001b[0m \u001b[32m━━━━━━━━━━━━━━━━━━━━\u001b[0m\u001b[37m\u001b[0m \u001b[1m14s\u001b[0m 14ms/step - accuracy: 0.8915 - loss: 0.3821 - val_accuracy: 0.9037 - val_loss: 0.3435\n",
            "Epoch 7/15\n",
            "\u001b[1m938/938\u001b[0m \u001b[32m━━━━━━━━━━━━━━━━━━━━\u001b[0m\u001b[37m\u001b[0m \u001b[1m14s\u001b[0m 15ms/step - accuracy: 0.8987 - loss: 0.3512 - val_accuracy: 0.9089 - val_loss: 0.3235\n",
            "Epoch 8/15\n",
            "\u001b[1m938/938\u001b[0m \u001b[32m━━━━━━━━━━━━━━━━━━━━\u001b[0m\u001b[37m\u001b[0m \u001b[1m14s\u001b[0m 14ms/step - accuracy: 0.9005 - loss: 0.3398 - val_accuracy: 0.9124 - val_loss: 0.3109\n",
            "Epoch 9/15\n",
            "\u001b[1m938/938\u001b[0m \u001b[32m━━━━━━━━━━━━━━━━━━━━\u001b[0m\u001b[37m\u001b[0m \u001b[1m14s\u001b[0m 14ms/step - accuracy: 0.9062 - loss: 0.3200 - val_accuracy: 0.9169 - val_loss: 0.2974\n",
            "Epoch 10/15\n",
            "\u001b[1m938/938\u001b[0m \u001b[32m━━━━━━━━━━━━━━━━━━━━\u001b[0m\u001b[37m\u001b[0m \u001b[1m14s\u001b[0m 14ms/step - accuracy: 0.9099 - loss: 0.3126 - val_accuracy: 0.9177 - val_loss: 0.2876\n",
            "Epoch 11/15\n",
            "\u001b[1m938/938\u001b[0m \u001b[32m━━━━━━━━━━━━━━━━━━━━\u001b[0m\u001b[37m\u001b[0m \u001b[1m14s\u001b[0m 14ms/step - accuracy: 0.9126 - loss: 0.3012 - val_accuracy: 0.9189 - val_loss: 0.2814\n",
            "Epoch 12/15\n",
            "\u001b[1m938/938\u001b[0m \u001b[32m━━━━━━━━━━━━━━━━━━━━\u001b[0m\u001b[37m\u001b[0m \u001b[1m14s\u001b[0m 14ms/step - accuracy: 0.9173 - loss: 0.2870 - val_accuracy: 0.9222 - val_loss: 0.2710\n",
            "Epoch 13/15\n",
            "\u001b[1m938/938\u001b[0m \u001b[32m━━━━━━━━━━━━━━━━━━━━\u001b[0m\u001b[37m\u001b[0m \u001b[1m14s\u001b[0m 14ms/step - accuracy: 0.9169 - loss: 0.2850 - val_accuracy: 0.9243 - val_loss: 0.2643\n",
            "Epoch 14/15\n",
            "\u001b[1m938/938\u001b[0m \u001b[32m━━━━━━━━━━━━━━━━━━━━\u001b[0m\u001b[37m\u001b[0m \u001b[1m14s\u001b[0m 14ms/step - accuracy: 0.9215 - loss: 0.2717 - val_accuracy: 0.9260 - val_loss: 0.2577\n",
            "Epoch 15/15\n",
            "\u001b[1m938/938\u001b[0m \u001b[32m━━━━━━━━━━━━━━━━━━━━\u001b[0m\u001b[37m\u001b[0m \u001b[1m14s\u001b[0m 15ms/step - accuracy: 0.9236 - loss: 0.2674 - val_accuracy: 0.9277 - val_loss: 0.2516\n",
            "\n",
            "Average time per epoch: 13.69 seconds\n"
          ]
        }
      ],
      "source": [
        "cnn_model4 = build_cnn(16, 0.001, SGD, use_dropout=False)\n",
        "start_time = time.time()\n",
        "\n",
        "cnn_model4.fit(\n",
        "    x_train, y_train_cat,\n",
        "    batch_size=64,\n",
        "    epochs=15,\n",
        "    validation_data=(x_test, y_test_cat),\n",
        "    shuffle=True\n",
        ")\n",
        "\n",
        "total_time = time.time() - start_time\n",
        "print(f\"\\nAverage time per epoch: {total_time/15:.2f} seconds\")"
      ]
    },
    {
      "cell_type": "code",
      "execution_count": 40,
      "metadata": {
        "colab": {
          "base_uri": "https://localhost:8080/"
        },
        "id": "l0-jpkubt42u",
        "outputId": "fc31d47f-4a20-4896-94d1-c42fcd57d934"
      },
      "outputs": [
        {
          "output_type": "stream",
          "name": "stdout",
          "text": [
            "\u001b[1m313/313\u001b[0m \u001b[32m━━━━━━━━━━━━━━━━━━━━\u001b[0m\u001b[37m\u001b[0m \u001b[1m1s\u001b[0m 2ms/step - accuracy: 0.9164 - loss: 0.2876\n"
          ]
        }
      ],
      "source": [
        "val_loss, val_accuracy = cnn_model4.evaluate(x_test, y_test_cat)"
      ]
    },
    {
      "cell_type": "code",
      "execution_count": 41,
      "metadata": {
        "colab": {
          "base_uri": "https://localhost:8080/"
        },
        "id": "D52V0pyfjcqU",
        "outputId": "accfebf8-020f-49fb-b4d4-f34411e3545e"
      },
      "outputs": [
        {
          "output_type": "stream",
          "name": "stdout",
          "text": [
            "Epoch 1/15\n",
            "\u001b[1m938/938\u001b[0m \u001b[32m━━━━━━━━━━━━━━━━━━━━\u001b[0m\u001b[37m\u001b[0m \u001b[1m14s\u001b[0m 15ms/step - accuracy: 0.8326 - loss: 0.5459 - val_accuracy: 0.9637 - val_loss: 0.1149\n",
            "Epoch 2/15\n",
            "\u001b[1m938/938\u001b[0m \u001b[32m━━━━━━━━━━━━━━━━━━━━\u001b[0m\u001b[37m\u001b[0m \u001b[1m14s\u001b[0m 14ms/step - accuracy: 0.9671 - loss: 0.1101 - val_accuracy: 0.9664 - val_loss: 0.1020\n",
            "Epoch 3/15\n",
            "\u001b[1m938/938\u001b[0m \u001b[32m━━━━━━━━━━━━━━━━━━━━\u001b[0m\u001b[37m\u001b[0m \u001b[1m14s\u001b[0m 14ms/step - accuracy: 0.9785 - loss: 0.0724 - val_accuracy: 0.9804 - val_loss: 0.0590\n",
            "Epoch 4/15\n",
            "\u001b[1m938/938\u001b[0m \u001b[32m━━━━━━━━━━━━━━━━━━━━\u001b[0m\u001b[37m\u001b[0m \u001b[1m14s\u001b[0m 15ms/step - accuracy: 0.9841 - loss: 0.0524 - val_accuracy: 0.9800 - val_loss: 0.0594\n",
            "Epoch 5/15\n",
            "\u001b[1m938/938\u001b[0m \u001b[32m━━━━━━━━━━━━━━━━━━━━\u001b[0m\u001b[37m\u001b[0m \u001b[1m14s\u001b[0m 14ms/step - accuracy: 0.9880 - loss: 0.0420 - val_accuracy: 0.9803 - val_loss: 0.0616\n",
            "Epoch 6/15\n",
            "\u001b[1m938/938\u001b[0m \u001b[32m━━━━━━━━━━━━━━━━━━━━\u001b[0m\u001b[37m\u001b[0m \u001b[1m14s\u001b[0m 14ms/step - accuracy: 0.9903 - loss: 0.0325 - val_accuracy: 0.9842 - val_loss: 0.0537\n",
            "Epoch 7/15\n",
            "\u001b[1m938/938\u001b[0m \u001b[32m━━━━━━━━━━━━━━━━━━━━\u001b[0m\u001b[37m\u001b[0m \u001b[1m14s\u001b[0m 14ms/step - accuracy: 0.9918 - loss: 0.0270 - val_accuracy: 0.9854 - val_loss: 0.0459\n",
            "Epoch 8/15\n",
            "\u001b[1m938/938\u001b[0m \u001b[32m━━━━━━━━━━━━━━━━━━━━\u001b[0m\u001b[37m\u001b[0m \u001b[1m14s\u001b[0m 14ms/step - accuracy: 0.9939 - loss: 0.0217 - val_accuracy: 0.9848 - val_loss: 0.0472\n",
            "Epoch 9/15\n",
            "\u001b[1m938/938\u001b[0m \u001b[32m━━━━━━━━━━━━━━━━━━━━\u001b[0m\u001b[37m\u001b[0m \u001b[1m14s\u001b[0m 14ms/step - accuracy: 0.9954 - loss: 0.0178 - val_accuracy: 0.9839 - val_loss: 0.0488\n",
            "Epoch 10/15\n",
            "\u001b[1m938/938\u001b[0m \u001b[32m━━━━━━━━━━━━━━━━━━━━\u001b[0m\u001b[37m\u001b[0m \u001b[1m14s\u001b[0m 15ms/step - accuracy: 0.9964 - loss: 0.0143 - val_accuracy: 0.9858 - val_loss: 0.0438\n",
            "Epoch 11/15\n",
            "\u001b[1m938/938\u001b[0m \u001b[32m━━━━━━━━━━━━━━━━━━━━\u001b[0m\u001b[37m\u001b[0m \u001b[1m14s\u001b[0m 14ms/step - accuracy: 0.9971 - loss: 0.0119 - val_accuracy: 0.9771 - val_loss: 0.0779\n",
            "Epoch 12/15\n",
            "\u001b[1m938/938\u001b[0m \u001b[32m━━━━━━━━━━━━━━━━━━━━\u001b[0m\u001b[37m\u001b[0m \u001b[1m14s\u001b[0m 14ms/step - accuracy: 0.9978 - loss: 0.0097 - val_accuracy: 0.9859 - val_loss: 0.0444\n",
            "Epoch 13/15\n",
            "\u001b[1m938/938\u001b[0m \u001b[32m━━━━━━━━━━━━━━━━━━━━\u001b[0m\u001b[37m\u001b[0m \u001b[1m14s\u001b[0m 14ms/step - accuracy: 0.9979 - loss: 0.0083 - val_accuracy: 0.9873 - val_loss: 0.0431\n",
            "Epoch 14/15\n",
            "\u001b[1m938/938\u001b[0m \u001b[32m━━━━━━━━━━━━━━━━━━━━\u001b[0m\u001b[37m\u001b[0m \u001b[1m14s\u001b[0m 14ms/step - accuracy: 0.9990 - loss: 0.0060 - val_accuracy: 0.9863 - val_loss: 0.0444\n",
            "Epoch 15/15\n",
            "\u001b[1m938/938\u001b[0m \u001b[32m━━━━━━━━━━━━━━━━━━━━\u001b[0m\u001b[37m\u001b[0m \u001b[1m14s\u001b[0m 14ms/step - accuracy: 0.9988 - loss: 0.0060 - val_accuracy: 0.9870 - val_loss: 0.0449\n",
            "\n",
            "Average time per epoch: 13.67 seconds\n"
          ]
        }
      ],
      "source": [
        "cnn_model5 = build_cnn(16, 0.1, SGD, use_dropout=False)\n",
        "start_time = time.time()\n",
        "\n",
        "cnn_model5.fit(\n",
        "    x_train, y_train_cat,\n",
        "    batch_size=64,\n",
        "    epochs=15,\n",
        "    validation_data=(x_test, y_test_cat),\n",
        "    shuffle=True\n",
        ")\n",
        "\n",
        "total_time = time.time() - start_time\n",
        "print(f\"\\nAverage time per epoch: {total_time/15:.2f} seconds\")"
      ]
    },
    {
      "cell_type": "code",
      "execution_count": 42,
      "metadata": {
        "colab": {
          "base_uri": "https://localhost:8080/"
        },
        "id": "hmdKE95at__A",
        "outputId": "ee2d9519-7b36-4a60-fd59-4a708c534982"
      },
      "outputs": [
        {
          "output_type": "stream",
          "name": "stdout",
          "text": [
            "\u001b[1m313/313\u001b[0m \u001b[32m━━━━━━━━━━━━━━━━━━━━\u001b[0m\u001b[37m\u001b[0m \u001b[1m1s\u001b[0m 2ms/step - accuracy: 0.9833 - loss: 0.0568\n"
          ]
        }
      ],
      "source": [
        "val_loss, val_accuracy = cnn_model5.evaluate(x_test, y_test_cat)"
      ]
    },
    {
      "cell_type": "markdown",
      "metadata": {
        "id": "IROts7DZnxRT"
      },
      "source": [
        "#we notice that lr=0.1 is better for the model accuracy"
      ]
    },
    {
      "cell_type": "markdown",
      "metadata": {
        "id": "H_SawWygmrBC"
      },
      "source": [
        "## now we try different Conv2D layers"
      ]
    },
    {
      "cell_type": "code",
      "execution_count": 43,
      "metadata": {
        "colab": {
          "base_uri": "https://localhost:8080/"
        },
        "id": "OW9A4yZWzsq-",
        "outputId": "66c3aa80-e3d2-43e0-e9f9-1b1f5556615f"
      },
      "outputs": [
        {
          "output_type": "stream",
          "name": "stdout",
          "text": [
            "Epoch 1/15\n",
            "\u001b[1m938/938\u001b[0m \u001b[32m━━━━━━━━━━━━━━━━━━━━\u001b[0m\u001b[37m\u001b[0m \u001b[1m38s\u001b[0m 40ms/step - accuracy: 0.8331 - loss: 0.5514 - val_accuracy: 0.9698 - val_loss: 0.0971\n",
            "Epoch 2/15\n",
            "\u001b[1m938/938\u001b[0m \u001b[32m━━━━━━━━━━━━━━━━━━━━\u001b[0m\u001b[37m\u001b[0m \u001b[1m36s\u001b[0m 39ms/step - accuracy: 0.9700 - loss: 0.0976 - val_accuracy: 0.9803 - val_loss: 0.0635\n",
            "Epoch 3/15\n",
            "\u001b[1m938/938\u001b[0m \u001b[32m━━━━━━━━━━━━━━━━━━━━\u001b[0m\u001b[37m\u001b[0m \u001b[1m36s\u001b[0m 39ms/step - accuracy: 0.9789 - loss: 0.0666 - val_accuracy: 0.9817 - val_loss: 0.0606\n",
            "Epoch 4/15\n",
            "\u001b[1m938/938\u001b[0m \u001b[32m━━━━━━━━━━━━━━━━━━━━\u001b[0m\u001b[37m\u001b[0m \u001b[1m36s\u001b[0m 39ms/step - accuracy: 0.9826 - loss: 0.0554 - val_accuracy: 0.9807 - val_loss: 0.0582\n",
            "Epoch 5/15\n",
            "\u001b[1m938/938\u001b[0m \u001b[32m━━━━━━━━━━━━━━━━━━━━\u001b[0m\u001b[37m\u001b[0m \u001b[1m36s\u001b[0m 39ms/step - accuracy: 0.9862 - loss: 0.0447 - val_accuracy: 0.9832 - val_loss: 0.0532\n",
            "Epoch 6/15\n",
            "\u001b[1m938/938\u001b[0m \u001b[32m━━━━━━━━━━━━━━━━━━━━\u001b[0m\u001b[37m\u001b[0m \u001b[1m36s\u001b[0m 39ms/step - accuracy: 0.9880 - loss: 0.0377 - val_accuracy: 0.9867 - val_loss: 0.0434\n",
            "Epoch 7/15\n",
            "\u001b[1m938/938\u001b[0m \u001b[32m━━━━━━━━━━━━━━━━━━━━\u001b[0m\u001b[37m\u001b[0m \u001b[1m36s\u001b[0m 39ms/step - accuracy: 0.9901 - loss: 0.0325 - val_accuracy: 0.9864 - val_loss: 0.0433\n",
            "Epoch 8/15\n",
            "\u001b[1m938/938\u001b[0m \u001b[32m━━━━━━━━━━━━━━━━━━━━\u001b[0m\u001b[37m\u001b[0m \u001b[1m36s\u001b[0m 38ms/step - accuracy: 0.9913 - loss: 0.0295 - val_accuracy: 0.9805 - val_loss: 0.0646\n",
            "Epoch 9/15\n",
            "\u001b[1m938/938\u001b[0m \u001b[32m━━━━━━━━━━━━━━━━━━━━\u001b[0m\u001b[37m\u001b[0m \u001b[1m36s\u001b[0m 39ms/step - accuracy: 0.9920 - loss: 0.0264 - val_accuracy: 0.9870 - val_loss: 0.0399\n",
            "Epoch 10/15\n",
            "\u001b[1m938/938\u001b[0m \u001b[32m━━━━━━━━━━━━━━━━━━━━\u001b[0m\u001b[37m\u001b[0m \u001b[1m36s\u001b[0m 39ms/step - accuracy: 0.9929 - loss: 0.0228 - val_accuracy: 0.9865 - val_loss: 0.0448\n",
            "Epoch 11/15\n",
            "\u001b[1m938/938\u001b[0m \u001b[32m━━━━━━━━━━━━━━━━━━━━\u001b[0m\u001b[37m\u001b[0m \u001b[1m36s\u001b[0m 38ms/step - accuracy: 0.9944 - loss: 0.0195 - val_accuracy: 0.9879 - val_loss: 0.0422\n",
            "Epoch 12/15\n",
            "\u001b[1m938/938\u001b[0m \u001b[32m━━━━━━━━━━━━━━━━━━━━\u001b[0m\u001b[37m\u001b[0m \u001b[1m36s\u001b[0m 39ms/step - accuracy: 0.9944 - loss: 0.0190 - val_accuracy: 0.9858 - val_loss: 0.0428\n",
            "Epoch 13/15\n",
            "\u001b[1m938/938\u001b[0m \u001b[32m━━━━━━━━━━━━━━━━━━━━\u001b[0m\u001b[37m\u001b[0m \u001b[1m36s\u001b[0m 38ms/step - accuracy: 0.9951 - loss: 0.0158 - val_accuracy: 0.9868 - val_loss: 0.0442\n",
            "Epoch 14/15\n",
            "\u001b[1m938/938\u001b[0m \u001b[32m━━━━━━━━━━━━━━━━━━━━\u001b[0m\u001b[37m\u001b[0m \u001b[1m36s\u001b[0m 39ms/step - accuracy: 0.9948 - loss: 0.0168 - val_accuracy: 0.9866 - val_loss: 0.0470\n",
            "Epoch 15/15\n",
            "\u001b[1m938/938\u001b[0m \u001b[32m━━━━━━━━━━━━━━━━━━━━\u001b[0m\u001b[37m\u001b[0m \u001b[1m36s\u001b[0m 39ms/step - accuracy: 0.9957 - loss: 0.0143 - val_accuracy: 0.9833 - val_loss: 0.0568\n",
            "\n",
            "Average time per epoch: 36.36 seconds\n"
          ]
        }
      ],
      "source": [
        "# fitting with 2 Conv2D and 1 FC with the best parameters from the previous models (15 epoch, 0.1 LR)\n",
        "cnn_model6 = Sequential()\n",
        "cnn_model6.add(Conv2D(16, (3, 3), activation='relu', input_shape=(28, 28, 1)))\n",
        "cnn_model6.add(Conv2D(16, (3, 3), activation='relu', input_shape=(28, 28, 1)))\n",
        "cnn_model6.add(MaxPooling2D(pool_size=(2, 2), strides=(2, 2)))\n",
        "cnn_model6.add(Flatten())\n",
        "cnn_model6.add(Dense(10, activation=\"softmax\"))\n",
        "cnn_model6.compile(\n",
        "optimizer=SGD(learning_rate=0.1),\n",
        "loss=\"categorical_crossentropy\",\n",
        "metrics=[\"accuracy\"],\n",
        "    )\n",
        "\n",
        "start_time = time.time()\n",
        "\n",
        "cnn_model6.fit(\n",
        "    x_train, y_train_cat,\n",
        "    batch_size=64,\n",
        "    epochs=15,\n",
        "    validation_data=(x_test, y_test_cat),\n",
        "    shuffle=True\n",
        ")\n",
        "\n",
        "total_time = time.time() - start_time\n",
        "print(f\"\\nAverage time per epoch: {total_time/15:.2f} seconds\")"
      ]
    },
    {
      "cell_type": "code",
      "execution_count": 44,
      "metadata": {
        "colab": {
          "base_uri": "https://localhost:8080/"
        },
        "id": "-aiku8PE2UAJ",
        "outputId": "373b062e-a6ef-40bc-9526-3048de9fd3be"
      },
      "outputs": [
        {
          "output_type": "stream",
          "name": "stdout",
          "text": [
            "\u001b[1m313/313\u001b[0m \u001b[32m━━━━━━━━━━━━━━━━━━━━\u001b[0m\u001b[37m\u001b[0m \u001b[1m2s\u001b[0m 5ms/step - accuracy: 0.9793 - loss: 0.0715\n"
          ]
        }
      ],
      "source": [
        "val_loss, val_accuracy = cnn_model6.evaluate(x_test, y_test_cat)"
      ]
    },
    {
      "cell_type": "code",
      "execution_count": 45,
      "metadata": {
        "colab": {
          "base_uri": "https://localhost:8080/"
        },
        "id": "xrV4oC5Nntuq",
        "outputId": "37f35535-fd29-463b-be66-ef34576b1fa2"
      },
      "outputs": [
        {
          "output_type": "stream",
          "name": "stdout",
          "text": [
            "Epoch 1/15\n",
            "\u001b[1m938/938\u001b[0m \u001b[32m━━━━━━━━━━━━━━━━━━━━\u001b[0m\u001b[37m\u001b[0m \u001b[1m41s\u001b[0m 44ms/step - accuracy: 0.8368 - loss: 0.5232 - val_accuracy: 0.9697 - val_loss: 0.0941\n",
            "Epoch 2/15\n",
            "\u001b[1m938/938\u001b[0m \u001b[32m━━━━━━━━━━━━━━━━━━━━\u001b[0m\u001b[37m\u001b[0m \u001b[1m40s\u001b[0m 43ms/step - accuracy: 0.9780 - loss: 0.0724 - val_accuracy: 0.9774 - val_loss: 0.0732\n",
            "Epoch 3/15\n",
            "\u001b[1m938/938\u001b[0m \u001b[32m━━━━━━━━━━━━━━━━━━━━\u001b[0m\u001b[37m\u001b[0m \u001b[1m40s\u001b[0m 43ms/step - accuracy: 0.9867 - loss: 0.0416 - val_accuracy: 0.9847 - val_loss: 0.0462\n",
            "Epoch 4/15\n",
            "\u001b[1m938/938\u001b[0m \u001b[32m━━━━━━━━━━━━━━━━━━━━\u001b[0m\u001b[37m\u001b[0m \u001b[1m40s\u001b[0m 43ms/step - accuracy: 0.9912 - loss: 0.0300 - val_accuracy: 0.9869 - val_loss: 0.0398\n",
            "Epoch 5/15\n",
            "\u001b[1m938/938\u001b[0m \u001b[32m━━━━━━━━━━━━━━━━━━━━\u001b[0m\u001b[37m\u001b[0m \u001b[1m41s\u001b[0m 43ms/step - accuracy: 0.9936 - loss: 0.0206 - val_accuracy: 0.9861 - val_loss: 0.0443\n",
            "Epoch 6/15\n",
            "\u001b[1m938/938\u001b[0m \u001b[32m━━━━━━━━━━━━━━━━━━━━\u001b[0m\u001b[37m\u001b[0m \u001b[1m40s\u001b[0m 43ms/step - accuracy: 0.9951 - loss: 0.0164 - val_accuracy: 0.9884 - val_loss: 0.0384\n",
            "Epoch 7/15\n",
            "\u001b[1m938/938\u001b[0m \u001b[32m━━━━━━━━━━━━━━━━━━━━\u001b[0m\u001b[37m\u001b[0m \u001b[1m40s\u001b[0m 43ms/step - accuracy: 0.9966 - loss: 0.0115 - val_accuracy: 0.9892 - val_loss: 0.0381\n",
            "Epoch 8/15\n",
            "\u001b[1m938/938\u001b[0m \u001b[32m━━━━━━━━━━━━━━━━━━━━\u001b[0m\u001b[37m\u001b[0m \u001b[1m40s\u001b[0m 43ms/step - accuracy: 0.9964 - loss: 0.0113 - val_accuracy: 0.9884 - val_loss: 0.0401\n",
            "Epoch 9/15\n",
            "\u001b[1m938/938\u001b[0m \u001b[32m━━━━━━━━━━━━━━━━━━━━\u001b[0m\u001b[37m\u001b[0m \u001b[1m40s\u001b[0m 43ms/step - accuracy: 0.9979 - loss: 0.0069 - val_accuracy: 0.9893 - val_loss: 0.0375\n",
            "Epoch 10/15\n",
            "\u001b[1m938/938\u001b[0m \u001b[32m━━━━━━━━━━━━━━━━━━━━\u001b[0m\u001b[37m\u001b[0m \u001b[1m40s\u001b[0m 43ms/step - accuracy: 0.9986 - loss: 0.0048 - val_accuracy: 0.9881 - val_loss: 0.0462\n",
            "Epoch 11/15\n",
            "\u001b[1m938/938\u001b[0m \u001b[32m━━━━━━━━━━━━━━━━━━━━\u001b[0m\u001b[37m\u001b[0m \u001b[1m40s\u001b[0m 43ms/step - accuracy: 0.9990 - loss: 0.0038 - val_accuracy: 0.9891 - val_loss: 0.0461\n",
            "Epoch 12/15\n",
            "\u001b[1m938/938\u001b[0m \u001b[32m━━━━━━━━━━━━━━━━━━━━\u001b[0m\u001b[37m\u001b[0m \u001b[1m40s\u001b[0m 43ms/step - accuracy: 0.9990 - loss: 0.0035 - val_accuracy: 0.9901 - val_loss: 0.0399\n",
            "Epoch 13/15\n",
            "\u001b[1m938/938\u001b[0m \u001b[32m━━━━━━━━━━━━━━━━━━━━\u001b[0m\u001b[37m\u001b[0m \u001b[1m40s\u001b[0m 43ms/step - accuracy: 0.9987 - loss: 0.0039 - val_accuracy: 0.9894 - val_loss: 0.0451\n",
            "Epoch 14/15\n",
            "\u001b[1m938/938\u001b[0m \u001b[32m━━━━━━━━━━━━━━━━━━━━\u001b[0m\u001b[37m\u001b[0m \u001b[1m40s\u001b[0m 43ms/step - accuracy: 0.9995 - loss: 0.0024 - val_accuracy: 0.9898 - val_loss: 0.0407\n",
            "Epoch 15/15\n",
            "\u001b[1m938/938\u001b[0m \u001b[32m━━━━━━━━━━━━━━━━━━━━\u001b[0m\u001b[37m\u001b[0m \u001b[1m40s\u001b[0m 43ms/step - accuracy: 0.9999 - loss: 7.4582e-04 - val_accuracy: 0.9909 - val_loss: 0.0421\n",
            "\n",
            "Average time per epoch: 40.41 seconds\n"
          ]
        }
      ],
      "source": [
        "# fitting with 2 Conv2D and 2 FC with the best parameters from the previous models (15 epoch, 0.1 LR)\n",
        "cnn_model7 = Sequential()\n",
        "cnn_model7.add(Conv2D(16, (3, 3), activation='relu', input_shape=(28, 28, 1)))\n",
        "cnn_model7.add(Conv2D(16, (3, 3), activation='relu', input_shape=(28, 28, 1)))\n",
        "cnn_model7.add(MaxPooling2D(pool_size=(2, 2), strides=(2, 2)))\n",
        "cnn_model7.add(Flatten())\n",
        "cnn_model7.add(Dense(128, activation=\"relu\"))\n",
        "cnn_model7.add(Dense(10, activation=\"softmax\"))\n",
        "cnn_model7.compile(\n",
        "optimizer=SGD(learning_rate=0.1),\n",
        "loss=\"categorical_crossentropy\",\n",
        "metrics=[\"accuracy\"],\n",
        "    )\n",
        "\n",
        "start_time = time.time()\n",
        "\n",
        "cnn_model7.fit(\n",
        "    x_train, y_train_cat,\n",
        "    batch_size=64,\n",
        "    epochs=15,\n",
        "    validation_data=(x_test, y_test_cat),\n",
        "    shuffle=True\n",
        ")\n",
        "\n",
        "total_time = time.time() - start_time\n",
        "print(f\"\\nAverage time per epoch: {total_time/15:.2f} seconds\")"
      ]
    },
    {
      "cell_type": "code",
      "execution_count": 46,
      "metadata": {
        "colab": {
          "base_uri": "https://localhost:8080/"
        },
        "id": "p9LKYqkc2WFy",
        "outputId": "d856463b-fa89-4293-e43c-9c3f30bd672f"
      },
      "outputs": [
        {
          "output_type": "stream",
          "name": "stdout",
          "text": [
            "\u001b[1m313/313\u001b[0m \u001b[32m━━━━━━━━━━━━━━━━━━━━\u001b[0m\u001b[37m\u001b[0m \u001b[1m2s\u001b[0m 5ms/step - accuracy: 0.9878 - loss: 0.0583\n"
          ]
        }
      ],
      "source": [
        "val_loss, val_accuracy = cnn_model7.evaluate(x_test, y_test_cat)"
      ]
    },
    {
      "cell_type": "code",
      "execution_count": 47,
      "metadata": {
        "id": "XC4hbwvan4gX",
        "colab": {
          "base_uri": "https://localhost:8080/"
        },
        "outputId": "bbdac9fc-b55f-4e70-9eab-8b8d1d93173c"
      },
      "outputs": [
        {
          "output_type": "stream",
          "name": "stdout",
          "text": [
            "Epoch 1/15\n",
            "\u001b[1m938/938\u001b[0m \u001b[32m━━━━━━━━━━━━━━━━━━━━\u001b[0m\u001b[37m\u001b[0m \u001b[1m49s\u001b[0m 51ms/step - accuracy: 0.8125 - loss: 0.5982 - val_accuracy: 0.9692 - val_loss: 0.0911\n",
            "Epoch 2/15\n",
            "\u001b[1m938/938\u001b[0m \u001b[32m━━━━━━━━━━━━━━━━━━━━\u001b[0m\u001b[37m\u001b[0m \u001b[1m47s\u001b[0m 51ms/step - accuracy: 0.9790 - loss: 0.0682 - val_accuracy: 0.9831 - val_loss: 0.0530\n",
            "Epoch 3/15\n",
            "\u001b[1m938/938\u001b[0m \u001b[32m━━━━━━━━━━━━━━━━━━━━\u001b[0m\u001b[37m\u001b[0m \u001b[1m47s\u001b[0m 50ms/step - accuracy: 0.9871 - loss: 0.0413 - val_accuracy: 0.9843 - val_loss: 0.0458\n",
            "Epoch 4/15\n",
            "\u001b[1m938/938\u001b[0m \u001b[32m━━━━━━━━━━━━━━━━━━━━\u001b[0m\u001b[37m\u001b[0m \u001b[1m47s\u001b[0m 50ms/step - accuracy: 0.9920 - loss: 0.0257 - val_accuracy: 0.9857 - val_loss: 0.0468\n",
            "Epoch 5/15\n",
            "\u001b[1m938/938\u001b[0m \u001b[32m━━━━━━━━━━━━━━━━━━━━\u001b[0m\u001b[37m\u001b[0m \u001b[1m47s\u001b[0m 50ms/step - accuracy: 0.9937 - loss: 0.0200 - val_accuracy: 0.9850 - val_loss: 0.0485\n",
            "Epoch 6/15\n",
            "\u001b[1m938/938\u001b[0m \u001b[32m━━━━━━━━━━━━━━━━━━━━\u001b[0m\u001b[37m\u001b[0m \u001b[1m47s\u001b[0m 50ms/step - accuracy: 0.9959 - loss: 0.0126 - val_accuracy: 0.9875 - val_loss: 0.0406\n",
            "Epoch 7/15\n",
            "\u001b[1m938/938\u001b[0m \u001b[32m━━━━━━━━━━━━━━━━━━━━\u001b[0m\u001b[37m\u001b[0m \u001b[1m47s\u001b[0m 50ms/step - accuracy: 0.9977 - loss: 0.0088 - val_accuracy: 0.9857 - val_loss: 0.0475\n",
            "Epoch 8/15\n",
            "\u001b[1m938/938\u001b[0m \u001b[32m━━━━━━━━━━━━━━━━━━━━\u001b[0m\u001b[37m\u001b[0m \u001b[1m47s\u001b[0m 50ms/step - accuracy: 0.9979 - loss: 0.0073 - val_accuracy: 0.9869 - val_loss: 0.0464\n",
            "Epoch 9/15\n",
            "\u001b[1m938/938\u001b[0m \u001b[32m━━━━━━━━━━━━━━━━━━━━\u001b[0m\u001b[37m\u001b[0m \u001b[1m47s\u001b[0m 50ms/step - accuracy: 0.9979 - loss: 0.0066 - val_accuracy: 0.9865 - val_loss: 0.0545\n",
            "Epoch 10/15\n",
            "\u001b[1m938/938\u001b[0m \u001b[32m━━━━━━━━━━━━━━━━━━━━\u001b[0m\u001b[37m\u001b[0m \u001b[1m47s\u001b[0m 50ms/step - accuracy: 0.9989 - loss: 0.0041 - val_accuracy: 0.9888 - val_loss: 0.0403\n",
            "Epoch 11/15\n",
            "\u001b[1m938/938\u001b[0m \u001b[32m━━━━━━━━━━━━━━━━━━━━\u001b[0m\u001b[37m\u001b[0m \u001b[1m47s\u001b[0m 50ms/step - accuracy: 0.9993 - loss: 0.0022 - val_accuracy: 0.9865 - val_loss: 0.0516\n",
            "Epoch 12/15\n",
            "\u001b[1m938/938\u001b[0m \u001b[32m━━━━━━━━━━━━━━━━━━━━\u001b[0m\u001b[37m\u001b[0m \u001b[1m47s\u001b[0m 50ms/step - accuracy: 0.9997 - loss: 0.0015 - val_accuracy: 0.9881 - val_loss: 0.0481\n",
            "Epoch 13/15\n",
            "\u001b[1m938/938\u001b[0m \u001b[32m━━━━━━━━━━━━━━━━━━━━\u001b[0m\u001b[37m\u001b[0m \u001b[1m47s\u001b[0m 50ms/step - accuracy: 1.0000 - loss: 6.6953e-04 - val_accuracy: 0.9892 - val_loss: 0.0455\n",
            "Epoch 14/15\n",
            "\u001b[1m938/938\u001b[0m \u001b[32m━━━━━━━━━━━━━━━━━━━━\u001b[0m\u001b[37m\u001b[0m \u001b[1m47s\u001b[0m 50ms/step - accuracy: 1.0000 - loss: 2.3808e-04 - val_accuracy: 0.9895 - val_loss: 0.0462\n",
            "Epoch 15/15\n",
            "\u001b[1m938/938\u001b[0m \u001b[32m━━━━━━━━━━━━━━━━━━━━\u001b[0m\u001b[37m\u001b[0m \u001b[1m48s\u001b[0m 51ms/step - accuracy: 1.0000 - loss: 1.7942e-04 - val_accuracy: 0.9895 - val_loss: 0.0480\n",
            "\n",
            "Average time per epoch: 47.43 seconds\n"
          ]
        }
      ],
      "source": [
        "# fitting with 2 Conv2D and 3 FC with the best parameters from the previous models (15 epoch, 0.1 LR)\n",
        "import time\n",
        "cnn_model8 = Sequential()\n",
        "cnn_model8.add(Conv2D(16, (3, 3), activation='relu', input_shape=(28, 28, 1)))\n",
        "cnn_model8.add(Conv2D(16, (3, 3), activation='relu', input_shape=(28, 28, 1)))\n",
        "cnn_model8.add(MaxPooling2D(pool_size=(2, 2), strides=(2, 2)))\n",
        "cnn_model8.add(Flatten())\n",
        "cnn_model8.add(Dense(256, activation=\"relu\"))\n",
        "cnn_model8.add(Dense(128, activation=\"relu\"))\n",
        "cnn_model8.add(Dense(10, activation=\"softmax\"))\n",
        "cnn_model8.compile(\n",
        "optimizer=SGD(learning_rate=0.1),\n",
        "loss=\"categorical_crossentropy\",\n",
        "metrics=[\"accuracy\"],\n",
        "    )\n",
        "\n",
        "start_time = time.time()\n",
        "\n",
        "cnn_model8.fit(\n",
        "    x_train, y_train_cat,\n",
        "    batch_size=64,\n",
        "    epochs=15,\n",
        "    validation_data=(x_test, y_test_cat),\n",
        "    shuffle=True\n",
        ")\n",
        "\n",
        "total_time = time.time() - start_time\n",
        "print(f\"\\nAverage time per epoch: {total_time/15:.2f} seconds\")\n"
      ]
    },
    {
      "cell_type": "code",
      "execution_count": 48,
      "metadata": {
        "colab": {
          "base_uri": "https://localhost:8080/"
        },
        "id": "c5yee_oi2acG",
        "outputId": "d66bf531-3f36-4c28-b201-060220095cc9"
      },
      "outputs": [
        {
          "output_type": "stream",
          "name": "stdout",
          "text": [
            "\u001b[1m313/313\u001b[0m \u001b[32m━━━━━━━━━━━━━━━━━━━━\u001b[0m\u001b[37m\u001b[0m \u001b[1m2s\u001b[0m 6ms/step - accuracy: 0.9872 - loss: 0.0596\n"
          ]
        }
      ],
      "source": [
        "val_loss, val_accuracy = cnn_model8.evaluate(x_test, y_test_cat)"
      ]
    },
    {
      "cell_type": "markdown",
      "metadata": {
        "id": "X86MNUkAoorG"
      },
      "source": [
        "## Observation\n",
        "We reached the highest accuracy (98.73%) so far with the following parameters :\n",
        "*   2 Conv2D layers\n",
        "*   3 FC layers\n",
        "*   15 epoch\n",
        "*   0.1 LR\n",
        "*   64 Batch Size\n",
        "\n",
        "* `cnn_model8`"
      ]
    },
    {
      "cell_type": "markdown",
      "source": [
        "--------------"
      ],
      "metadata": {
        "id": "EgIHi0pGYhsP"
      }
    },
    {
      "cell_type": "markdown",
      "metadata": {
        "id": "9SLCNuK8jRQz"
      },
      "source": [
        "### Now we try for different batch sizes:\n",
        "\n",
        "*   128\n",
        "*   192\n",
        "\n"
      ]
    },
    {
      "cell_type": "code",
      "execution_count": 49,
      "metadata": {
        "colab": {
          "base_uri": "https://localhost:8080/"
        },
        "id": "2KoyaF5GjUWL",
        "outputId": "123fd5c4-2583-4f88-e1d7-7ade15e3908a"
      },
      "outputs": [
        {
          "output_type": "stream",
          "name": "stdout",
          "text": [
            "Epoch 1/15\n",
            "\u001b[1m469/469\u001b[0m \u001b[32m━━━━━━━━━━━━━━━━━━━━\u001b[0m\u001b[37m\u001b[0m \u001b[1m47s\u001b[0m 99ms/step - accuracy: 0.7557 - loss: 0.7706 - val_accuracy: 0.9319 - val_loss: 0.2072\n",
            "Epoch 2/15\n",
            "\u001b[1m469/469\u001b[0m \u001b[32m━━━━━━━━━━━━━━━━━━━━\u001b[0m\u001b[37m\u001b[0m \u001b[1m46s\u001b[0m 98ms/step - accuracy: 0.9712 - loss: 0.0953 - val_accuracy: 0.9751 - val_loss: 0.0711\n",
            "Epoch 3/15\n",
            "\u001b[1m469/469\u001b[0m \u001b[32m━━━━━━━━━━━━━━━━━━━━\u001b[0m\u001b[37m\u001b[0m \u001b[1m46s\u001b[0m 98ms/step - accuracy: 0.9841 - loss: 0.0518 - val_accuracy: 0.9826 - val_loss: 0.0514\n",
            "Epoch 4/15\n",
            "\u001b[1m469/469\u001b[0m \u001b[32m━━━━━━━━━━━━━━━━━━━━\u001b[0m\u001b[37m\u001b[0m \u001b[1m46s\u001b[0m 98ms/step - accuracy: 0.9878 - loss: 0.0384 - val_accuracy: 0.9854 - val_loss: 0.0435\n",
            "Epoch 5/15\n",
            "\u001b[1m469/469\u001b[0m \u001b[32m━━━━━━━━━━━━━━━━━━━━\u001b[0m\u001b[37m\u001b[0m \u001b[1m46s\u001b[0m 98ms/step - accuracy: 0.9912 - loss: 0.0281 - val_accuracy: 0.9849 - val_loss: 0.0460\n",
            "Epoch 6/15\n",
            "\u001b[1m469/469\u001b[0m \u001b[32m━━━━━━━━━━━━━━━━━━━━\u001b[0m\u001b[37m\u001b[0m \u001b[1m46s\u001b[0m 99ms/step - accuracy: 0.9936 - loss: 0.0197 - val_accuracy: 0.9878 - val_loss: 0.0409\n",
            "Epoch 7/15\n",
            "\u001b[1m469/469\u001b[0m \u001b[32m━━━━━━━━━━━━━━━━━━━━\u001b[0m\u001b[37m\u001b[0m \u001b[1m46s\u001b[0m 98ms/step - accuracy: 0.9953 - loss: 0.0151 - val_accuracy: 0.9880 - val_loss: 0.0370\n",
            "Epoch 8/15\n",
            "\u001b[1m469/469\u001b[0m \u001b[32m━━━━━━━━━━━━━━━━━━━━\u001b[0m\u001b[37m\u001b[0m \u001b[1m46s\u001b[0m 98ms/step - accuracy: 0.9959 - loss: 0.0130 - val_accuracy: 0.9878 - val_loss: 0.0401\n",
            "Epoch 9/15\n",
            "\u001b[1m469/469\u001b[0m \u001b[32m━━━━━━━━━━━━━━━━━━━━\u001b[0m\u001b[37m\u001b[0m \u001b[1m46s\u001b[0m 98ms/step - accuracy: 0.9973 - loss: 0.0088 - val_accuracy: 0.9887 - val_loss: 0.0367\n",
            "Epoch 10/15\n",
            "\u001b[1m469/469\u001b[0m \u001b[32m━━━━━━━━━━━━━━━━━━━━\u001b[0m\u001b[37m\u001b[0m \u001b[1m46s\u001b[0m 99ms/step - accuracy: 0.9983 - loss: 0.0064 - val_accuracy: 0.9877 - val_loss: 0.0402\n",
            "Epoch 11/15\n",
            "\u001b[1m469/469\u001b[0m \u001b[32m━━━━━━━━━━━━━━━━━━━━\u001b[0m\u001b[37m\u001b[0m \u001b[1m46s\u001b[0m 98ms/step - accuracy: 0.9988 - loss: 0.0055 - val_accuracy: 0.9883 - val_loss: 0.0425\n",
            "Epoch 12/15\n",
            "\u001b[1m469/469\u001b[0m \u001b[32m━━━━━━━━━━━━━━━━━━━━\u001b[0m\u001b[37m\u001b[0m \u001b[1m46s\u001b[0m 98ms/step - accuracy: 0.9990 - loss: 0.0036 - val_accuracy: 0.9896 - val_loss: 0.0426\n",
            "Epoch 13/15\n",
            "\u001b[1m469/469\u001b[0m \u001b[32m━━━━━━━━━━━━━━━━━━━━\u001b[0m\u001b[37m\u001b[0m \u001b[1m46s\u001b[0m 98ms/step - accuracy: 0.9995 - loss: 0.0025 - val_accuracy: 0.9894 - val_loss: 0.0426\n",
            "Epoch 14/15\n",
            "\u001b[1m469/469\u001b[0m \u001b[32m━━━━━━━━━━━━━━━━━━━━\u001b[0m\u001b[37m\u001b[0m \u001b[1m46s\u001b[0m 99ms/step - accuracy: 0.9996 - loss: 0.0016 - val_accuracy: 0.9894 - val_loss: 0.0425\n",
            "Epoch 15/15\n",
            "\u001b[1m469/469\u001b[0m \u001b[32m━━━━━━━━━━━━━━━━━━━━\u001b[0m\u001b[37m\u001b[0m \u001b[1m46s\u001b[0m 98ms/step - accuracy: 0.9999 - loss: 9.4921e-04 - val_accuracy: 0.9895 - val_loss: 0.0449\n",
            "\n",
            "Average time per epoch: 46.17 seconds\n"
          ]
        }
      ],
      "source": [
        "# fitting with 128 batch size with the best parameters from the previous models (15 epoch, 0.1 LR, 2 Conv2D and 3 FC )\n",
        "cnn_model9 = Sequential()\n",
        "cnn_model9.add(Conv2D(16, (3, 3), activation='relu', input_shape=(28, 28, 1)))\n",
        "cnn_model9.add(Conv2D(16, (3, 3), activation='relu', input_shape=(28, 28, 1)))\n",
        "cnn_model9.add(MaxPooling2D(pool_size=(2, 2), strides=(2, 2)))\n",
        "cnn_model9.add(Flatten())\n",
        "cnn_model9.add(Dense(256, activation=\"relu\"))\n",
        "cnn_model9.add(Dense(128, activation=\"relu\"))\n",
        "cnn_model9.add(Dense(10, activation=\"softmax\"))\n",
        "cnn_model9.compile(\n",
        "optimizer=SGD(learning_rate=0.1),\n",
        "loss=\"categorical_crossentropy\",\n",
        "metrics=[\"accuracy\"],\n",
        "    )\n",
        "\n",
        "\n",
        "start_time = time.time()\n",
        "\n",
        "cnn_model9.fit(\n",
        "    x_train, y_train_cat,\n",
        "    batch_size=128,\n",
        "    epochs=15,\n",
        "    validation_data=(x_test, y_test_cat),\n",
        "    shuffle=True\n",
        ")\n",
        "\n",
        "total_time = time.time() - start_time\n",
        "print(f\"\\nAverage time per epoch: {total_time/15:.2f} seconds\")"
      ]
    },
    {
      "cell_type": "code",
      "execution_count": 50,
      "metadata": {
        "id": "HhX8mJytKmgT",
        "colab": {
          "base_uri": "https://localhost:8080/"
        },
        "outputId": "c5328fcc-daa9-4bb5-d23a-b3664f54db1b"
      },
      "outputs": [
        {
          "output_type": "stream",
          "name": "stdout",
          "text": [
            "\u001b[1m313/313\u001b[0m \u001b[32m━━━━━━━━━━━━━━━━━━━━\u001b[0m\u001b[37m\u001b[0m \u001b[1m2s\u001b[0m 6ms/step - accuracy: 0.9855 - loss: 0.0592\n"
          ]
        }
      ],
      "source": [
        "val_loss, val_accuracy = cnn_model9.evaluate(x_test, y_test_cat)"
      ]
    },
    {
      "cell_type": "code",
      "execution_count": 51,
      "metadata": {
        "id": "rzVTcSshkPo2",
        "colab": {
          "base_uri": "https://localhost:8080/"
        },
        "outputId": "ac6aa370-00b0-472b-bb0f-91254a756605"
      },
      "outputs": [
        {
          "output_type": "stream",
          "name": "stdout",
          "text": [
            "Epoch 1/15\n",
            "\u001b[1m313/313\u001b[0m \u001b[32m━━━━━━━━━━━━━━━━━━━━\u001b[0m\u001b[37m\u001b[0m \u001b[1m44s\u001b[0m 139ms/step - accuracy: 0.7276 - loss: 0.8831 - val_accuracy: 0.9499 - val_loss: 0.1558\n",
            "Epoch 2/15\n",
            "\u001b[1m313/313\u001b[0m \u001b[32m━━━━━━━━━━━━━━━━━━━━\u001b[0m\u001b[37m\u001b[0m \u001b[1m43s\u001b[0m 137ms/step - accuracy: 0.9568 - loss: 0.1374 - val_accuracy: 0.9732 - val_loss: 0.0874\n",
            "Epoch 3/15\n",
            "\u001b[1m313/313\u001b[0m \u001b[32m━━━━━━━━━━━━━━━━━━━━\u001b[0m\u001b[37m\u001b[0m \u001b[1m43s\u001b[0m 138ms/step - accuracy: 0.9741 - loss: 0.0843 - val_accuracy: 0.9738 - val_loss: 0.0805\n",
            "Epoch 4/15\n",
            "\u001b[1m313/313\u001b[0m \u001b[32m━━━━━━━━━━━━━━━━━━━━\u001b[0m\u001b[37m\u001b[0m \u001b[1m43s\u001b[0m 137ms/step - accuracy: 0.9813 - loss: 0.0592 - val_accuracy: 0.9805 - val_loss: 0.0600\n",
            "Epoch 5/15\n",
            "\u001b[1m313/313\u001b[0m \u001b[32m━━━━━━━━━━━━━━━━━━━━\u001b[0m\u001b[37m\u001b[0m \u001b[1m43s\u001b[0m 138ms/step - accuracy: 0.9864 - loss: 0.0452 - val_accuracy: 0.9810 - val_loss: 0.0574\n",
            "Epoch 6/15\n",
            "\u001b[1m313/313\u001b[0m \u001b[32m━━━━━━━━━━━━━━━━━━━━\u001b[0m\u001b[37m\u001b[0m \u001b[1m43s\u001b[0m 137ms/step - accuracy: 0.9875 - loss: 0.0392 - val_accuracy: 0.9861 - val_loss: 0.0434\n",
            "Epoch 7/15\n",
            "\u001b[1m313/313\u001b[0m \u001b[32m━━━━━━━━━━━━━━━━━━━━\u001b[0m\u001b[37m\u001b[0m \u001b[1m43s\u001b[0m 136ms/step - accuracy: 0.9918 - loss: 0.0274 - val_accuracy: 0.9756 - val_loss: 0.0773\n",
            "Epoch 8/15\n",
            "\u001b[1m313/313\u001b[0m \u001b[32m━━━━━━━━━━━━━━━━━━━━\u001b[0m\u001b[37m\u001b[0m \u001b[1m43s\u001b[0m 136ms/step - accuracy: 0.9927 - loss: 0.0241 - val_accuracy: 0.9864 - val_loss: 0.0425\n",
            "Epoch 9/15\n",
            "\u001b[1m313/313\u001b[0m \u001b[32m━━━━━━━━━━━━━━━━━━━━\u001b[0m\u001b[37m\u001b[0m \u001b[1m43s\u001b[0m 136ms/step - accuracy: 0.9949 - loss: 0.0180 - val_accuracy: 0.9870 - val_loss: 0.0429\n",
            "Epoch 10/15\n",
            "\u001b[1m313/313\u001b[0m \u001b[32m━━━━━━━━━━━━━━━━━━━━\u001b[0m\u001b[37m\u001b[0m \u001b[1m43s\u001b[0m 136ms/step - accuracy: 0.9960 - loss: 0.0128 - val_accuracy: 0.9870 - val_loss: 0.0431\n",
            "Epoch 11/15\n",
            "\u001b[1m313/313\u001b[0m \u001b[32m━━━━━━━━━━━━━━━━━━━━\u001b[0m\u001b[37m\u001b[0m \u001b[1m43s\u001b[0m 136ms/step - accuracy: 0.9969 - loss: 0.0117 - val_accuracy: 0.9864 - val_loss: 0.0479\n",
            "Epoch 12/15\n",
            "\u001b[1m313/313\u001b[0m \u001b[32m━━━━━━━━━━━━━━━━━━━━\u001b[0m\u001b[37m\u001b[0m \u001b[1m43s\u001b[0m 137ms/step - accuracy: 0.9953 - loss: 0.0213 - val_accuracy: 0.9769 - val_loss: 0.0713\n",
            "Epoch 13/15\n",
            "\u001b[1m313/313\u001b[0m \u001b[32m━━━━━━━━━━━━━━━━━━━━\u001b[0m\u001b[37m\u001b[0m \u001b[1m42s\u001b[0m 136ms/step - accuracy: 0.9856 - loss: 0.0455 - val_accuracy: 0.9735 - val_loss: 0.0833\n",
            "Epoch 14/15\n",
            "\u001b[1m313/313\u001b[0m \u001b[32m━━━━━━━━━━━━━━━━━━━━\u001b[0m\u001b[37m\u001b[0m \u001b[1m43s\u001b[0m 136ms/step - accuracy: 0.9917 - loss: 0.0246 - val_accuracy: 0.9890 - val_loss: 0.0356\n",
            "Epoch 15/15\n",
            "\u001b[1m313/313\u001b[0m \u001b[32m━━━━━━━━━━━━━━━━━━━━\u001b[0m\u001b[37m\u001b[0m \u001b[1m43s\u001b[0m 136ms/step - accuracy: 0.9961 - loss: 0.0123 - val_accuracy: 0.9884 - val_loss: 0.0381\n",
            "\n",
            "Average time per epoch: 42.85 seconds\n"
          ]
        }
      ],
      "source": [
        "# fitting with 192 batch size with the best parameters from the previous models (15 epoch, 0.1 LR, 2 Conv2D and 3 FC )\n",
        "cnn_model10 = Sequential()\n",
        "cnn_model10.add(Conv2D(16, (3, 3), activation='relu', input_shape=(28, 28, 1)))\n",
        "cnn_model10.add(Conv2D(16, (3, 3), activation='relu', input_shape=(28, 28, 1)))\n",
        "cnn_model10.add(MaxPooling2D(pool_size=(2, 2), strides=(2, 2)))\n",
        "cnn_model10.add(Flatten())\n",
        "cnn_model10.add(Dense(256, activation=\"relu\"))\n",
        "cnn_model10.add(Dense(128, activation=\"relu\"))\n",
        "cnn_model10.add(Dense(10, activation=\"softmax\"))\n",
        "cnn_model10.compile(\n",
        "optimizer=SGD(learning_rate=0.1),\n",
        "loss=\"categorical_crossentropy\",\n",
        "metrics=[\"accuracy\"],\n",
        "    )\n",
        "\n",
        "start_time = time.time()\n",
        "\n",
        "cnn_model10.fit(\n",
        "    x_train, y_train_cat,\n",
        "    batch_size=192,\n",
        "    epochs=15,\n",
        "    validation_data=(x_test, y_test_cat),\n",
        "    shuffle=True\n",
        ")\n",
        "\n",
        "total_time = time.time() - start_time\n",
        "print(f\"\\nAverage time per epoch: {total_time/15:.2f} seconds\")"
      ]
    },
    {
      "cell_type": "code",
      "execution_count": 52,
      "metadata": {
        "id": "a5nMk7zTlLQ4",
        "colab": {
          "base_uri": "https://localhost:8080/"
        },
        "outputId": "e1939a99-1aab-4840-b418-be44c5dce5bd"
      },
      "outputs": [
        {
          "output_type": "stream",
          "name": "stdout",
          "text": [
            "\u001b[1m313/313\u001b[0m \u001b[32m━━━━━━━━━━━━━━━━━━━━\u001b[0m\u001b[37m\u001b[0m \u001b[1m2s\u001b[0m 6ms/step - accuracy: 0.9852 - loss: 0.0493\n"
          ]
        }
      ],
      "source": [
        "val_loss, val_accuracy = cnn_model10.evaluate(x_test, y_test_cat)"
      ]
    },
    {
      "cell_type": "markdown",
      "source": [
        "## Observation :\n",
        "We notice that when we raise the batch size the accuracy gets slightly lower so we will stick to the lowest batch size and the best parameters from the previous models:\n",
        "\n",
        "* 2 Conv2D layers\n",
        "\n",
        "* 3 FC layers\n",
        "\n",
        "* 15 epoch\n",
        "\n",
        "* 0.1 LR\n",
        "\n",
        "* 64 Batch Size\n",
        "\n",
        "---"
      ],
      "metadata": {
        "id": "dWt_mcugX5_C"
      }
    },
    {
      "cell_type": "markdown",
      "source": [
        "### Now we try with different activation functions:\n",
        "\n",
        "* sigmoid\n",
        "* tanh\n",
        "* leakyRelu\n",
        "\n"
      ],
      "metadata": {
        "id": "z5UBQpnqYdCf"
      }
    },
    {
      "cell_type": "code",
      "source": [
        "# fitting with sigmoid activation function with the best parameters from the previous models (15 epoch, 0.1 LR, 2 Conv2D, 3 FC, 64 batch size)\n",
        "cnn_model11 = Sequential()\n",
        "cnn_model11.add(Conv2D(16, (3, 3), activation='sigmoid', input_shape=(28, 28, 1)))\n",
        "cnn_model11.add(Conv2D(16, (3, 3), activation='sigmoid', input_shape=(28, 28, 1)))\n",
        "cnn_model11.add(MaxPooling2D(pool_size=(2, 2), strides=(2, 2)))\n",
        "cnn_model11.add(Flatten())\n",
        "cnn_model11.add(Dense(256, activation=\"sigmoid\"))\n",
        "cnn_model11.add(Dense(128, activation=\"sigmoid\"))\n",
        "cnn_model11.add(Dense(10, activation=\"softmax\"))\n",
        "cnn_model11.compile(\n",
        "optimizer=SGD(learning_rate=0.1),\n",
        "loss=\"categorical_crossentropy\",\n",
        "metrics=[\"accuracy\"],\n",
        "    )\n",
        "\n",
        "start_time = time.time()\n",
        "\n",
        "cnn_model11.fit(\n",
        "    x_train, y_train_cat,\n",
        "    batch_size=64,\n",
        "    epochs=15,\n",
        "    validation_data=(x_test, y_test_cat),\n",
        "    shuffle=True\n",
        ")\n",
        "\n",
        "total_time = time.time() - start_time\n",
        "print(f\"\\nAverage time per epoch: {total_time/15:.2f} seconds\")"
      ],
      "metadata": {
        "id": "UYfZ4d_6Yp1U",
        "colab": {
          "base_uri": "https://localhost:8080/"
        },
        "outputId": "9a34e701-d0a2-447d-aca8-b2a64fe49501"
      },
      "execution_count": 53,
      "outputs": [
        {
          "output_type": "stream",
          "name": "stdout",
          "text": [
            "Epoch 1/15\n",
            "\u001b[1m938/938\u001b[0m \u001b[32m━━━━━━━━━━━━━━━━━━━━\u001b[0m\u001b[37m\u001b[0m \u001b[1m54s\u001b[0m 57ms/step - accuracy: 0.1047 - loss: 2.3180 - val_accuracy: 0.1010 - val_loss: 2.3230\n",
            "Epoch 2/15\n",
            "\u001b[1m938/938\u001b[0m \u001b[32m━━━━━━━━━━━━━━━━━━━━\u001b[0m\u001b[37m\u001b[0m \u001b[1m52s\u001b[0m 56ms/step - accuracy: 0.1072 - loss: 2.3070 - val_accuracy: 0.1135 - val_loss: 2.3019\n",
            "Epoch 3/15\n",
            "\u001b[1m938/938\u001b[0m \u001b[32m━━━━━━━━━━━━━━━━━━━━\u001b[0m\u001b[37m\u001b[0m \u001b[1m52s\u001b[0m 56ms/step - accuracy: 0.2100 - loss: 2.1705 - val_accuracy: 0.8284 - val_loss: 0.6261\n",
            "Epoch 4/15\n",
            "\u001b[1m938/938\u001b[0m \u001b[32m━━━━━━━━━━━━━━━━━━━━\u001b[0m\u001b[37m\u001b[0m \u001b[1m52s\u001b[0m 55ms/step - accuracy: 0.8537 - loss: 0.5155 - val_accuracy: 0.9012 - val_loss: 0.3410\n",
            "Epoch 5/15\n",
            "\u001b[1m938/938\u001b[0m \u001b[32m━━━━━━━━━━━━━━━━━━━━\u001b[0m\u001b[37m\u001b[0m \u001b[1m52s\u001b[0m 56ms/step - accuracy: 0.9006 - loss: 0.3321 - val_accuracy: 0.9044 - val_loss: 0.3195\n",
            "Epoch 6/15\n",
            "\u001b[1m938/938\u001b[0m \u001b[32m━━━━━━━━━━━━━━━━━━━━\u001b[0m\u001b[37m\u001b[0m \u001b[1m52s\u001b[0m 55ms/step - accuracy: 0.9172 - loss: 0.2766 - val_accuracy: 0.9300 - val_loss: 0.2459\n",
            "Epoch 7/15\n",
            "\u001b[1m938/938\u001b[0m \u001b[32m━━━━━━━━━━━━━━━━━━━━\u001b[0m\u001b[37m\u001b[0m \u001b[1m52s\u001b[0m 56ms/step - accuracy: 0.9317 - loss: 0.2345 - val_accuracy: 0.9393 - val_loss: 0.2097\n",
            "Epoch 8/15\n",
            "\u001b[1m938/938\u001b[0m \u001b[32m━━━━━━━━━━━━━━━━━━━━\u001b[0m\u001b[37m\u001b[0m \u001b[1m52s\u001b[0m 55ms/step - accuracy: 0.9409 - loss: 0.1992 - val_accuracy: 0.9420 - val_loss: 0.1910\n",
            "Epoch 9/15\n",
            "\u001b[1m938/938\u001b[0m \u001b[32m━━━━━━━━━━━━━━━━━━━━\u001b[0m\u001b[37m\u001b[0m \u001b[1m52s\u001b[0m 56ms/step - accuracy: 0.9480 - loss: 0.1750 - val_accuracy: 0.9468 - val_loss: 0.1755\n",
            "Epoch 10/15\n",
            "\u001b[1m938/938\u001b[0m \u001b[32m━━━━━━━━━━━━━━━━━━━━\u001b[0m\u001b[37m\u001b[0m \u001b[1m52s\u001b[0m 55ms/step - accuracy: 0.9527 - loss: 0.1567 - val_accuracy: 0.9566 - val_loss: 0.1521\n",
            "Epoch 11/15\n",
            "\u001b[1m938/938\u001b[0m \u001b[32m━━━━━━━━━━━━━━━━━━━━\u001b[0m\u001b[37m\u001b[0m \u001b[1m52s\u001b[0m 56ms/step - accuracy: 0.9571 - loss: 0.1428 - val_accuracy: 0.9580 - val_loss: 0.1473\n",
            "Epoch 12/15\n",
            "\u001b[1m938/938\u001b[0m \u001b[32m━━━━━━━━━━━━━━━━━━━━\u001b[0m\u001b[37m\u001b[0m \u001b[1m52s\u001b[0m 55ms/step - accuracy: 0.9623 - loss: 0.1277 - val_accuracy: 0.9592 - val_loss: 0.1311\n",
            "Epoch 13/15\n",
            "\u001b[1m938/938\u001b[0m \u001b[32m━━━━━━━━━━━━━━━━━━━━\u001b[0m\u001b[37m\u001b[0m \u001b[1m52s\u001b[0m 56ms/step - accuracy: 0.9651 - loss: 0.1187 - val_accuracy: 0.9623 - val_loss: 0.1248\n",
            "Epoch 14/15\n",
            "\u001b[1m938/938\u001b[0m \u001b[32m━━━━━━━━━━━━━━━━━━━━\u001b[0m\u001b[37m\u001b[0m \u001b[1m52s\u001b[0m 55ms/step - accuracy: 0.9669 - loss: 0.1131 - val_accuracy: 0.9649 - val_loss: 0.1231\n",
            "Epoch 15/15\n",
            "\u001b[1m938/938\u001b[0m \u001b[32m━━━━━━━━━━━━━━━━━━━━\u001b[0m\u001b[37m\u001b[0m \u001b[1m52s\u001b[0m 56ms/step - accuracy: 0.9691 - loss: 0.1027 - val_accuracy: 0.9675 - val_loss: 0.1127\n",
            "\n",
            "Average time per epoch: 52.23 seconds\n"
          ]
        }
      ]
    },
    {
      "cell_type": "code",
      "source": [
        "val_loss, val_accuracy = cnn_model11.evaluate(x_test, y_test_cat)"
      ],
      "metadata": {
        "id": "lOUK7IHuZT6k",
        "colab": {
          "base_uri": "https://localhost:8080/"
        },
        "outputId": "1303955f-5d7b-4947-ab62-fe27e580fc82"
      },
      "execution_count": 54,
      "outputs": [
        {
          "output_type": "stream",
          "name": "stdout",
          "text": [
            "\u001b[1m313/313\u001b[0m \u001b[32m━━━━━━━━━━━━━━━━━━━━\u001b[0m\u001b[37m\u001b[0m \u001b[1m2s\u001b[0m 7ms/step - accuracy: 0.9627 - loss: 0.1250\n"
          ]
        }
      ]
    },
    {
      "cell_type": "code",
      "source": [
        "# fitting with tanh activation function with the best parameters from the previous models (15 epoch, 0.1 LR, 2 Conv2D, 3 FC, 64 batch size)\n",
        "cnn_model11 = Sequential()\n",
        "cnn_model11.add(Conv2D(16, (3, 3), activation='tanh', input_shape=(28, 28, 1)))\n",
        "cnn_model11.add(Conv2D(16, (3, 3), activation='tanh', input_shape=(28, 28, 1)))\n",
        "cnn_model11.add(MaxPooling2D(pool_size=(2, 2), strides=(2, 2)))\n",
        "cnn_model11.add(Flatten())\n",
        "cnn_model11.add(Dense(256, activation=\"tanh\"))\n",
        "cnn_model11.add(Dense(128, activation=\"tanh\"))\n",
        "cnn_model11.add(Dense(10, activation=\"softmax\"))\n",
        "cnn_model11.compile(\n",
        "optimizer=SGD(learning_rate=0.1),\n",
        "loss=\"categorical_crossentropy\",\n",
        "metrics=[\"accuracy\"],\n",
        "    )\n",
        "\n",
        "start_time = time.time()\n",
        "\n",
        "cnn_model11.fit(\n",
        "    x_train, y_train_cat,\n",
        "    batch_size=64,\n",
        "    epochs=15,\n",
        "    validation_data=(x_test, y_test_cat),\n",
        "    shuffle=True\n",
        ")\n",
        "\n",
        "total_time = time.time() - start_time\n",
        "print(f\"\\nAverage time per epoch: {total_time/15:.2f} seconds\")"
      ],
      "metadata": {
        "id": "4jT1GUEUdjnc",
        "colab": {
          "base_uri": "https://localhost:8080/"
        },
        "outputId": "ef1d886f-a671-4382-d688-3c0428123f6f"
      },
      "execution_count": 55,
      "outputs": [
        {
          "output_type": "stream",
          "name": "stdout",
          "text": [
            "Epoch 1/15\n",
            "\u001b[1m938/938\u001b[0m \u001b[32m━━━━━━━━━━━━━━━━━━━━\u001b[0m\u001b[37m\u001b[0m \u001b[1m53s\u001b[0m 56ms/step - accuracy: 0.8806 - loss: 0.3901 - val_accuracy: 0.9657 - val_loss: 0.1228\n",
            "Epoch 2/15\n",
            "\u001b[1m938/938\u001b[0m \u001b[32m━━━━━━━━━━━━━━━━━━━━\u001b[0m\u001b[37m\u001b[0m \u001b[1m52s\u001b[0m 55ms/step - accuracy: 0.9761 - loss: 0.0832 - val_accuracy: 0.9664 - val_loss: 0.1018\n",
            "Epoch 3/15\n",
            "\u001b[1m938/938\u001b[0m \u001b[32m━━━━━━━━━━━━━━━━━━━━\u001b[0m\u001b[37m\u001b[0m \u001b[1m52s\u001b[0m 56ms/step - accuracy: 0.9862 - loss: 0.0482 - val_accuracy: 0.9852 - val_loss: 0.0414\n",
            "Epoch 4/15\n",
            "\u001b[1m938/938\u001b[0m \u001b[32m━━━━━━━━━━━━━━━━━━━━\u001b[0m\u001b[37m\u001b[0m \u001b[1m52s\u001b[0m 56ms/step - accuracy: 0.9914 - loss: 0.0314 - val_accuracy: 0.9862 - val_loss: 0.0411\n",
            "Epoch 5/15\n",
            "\u001b[1m938/938\u001b[0m \u001b[32m━━━━━━━━━━━━━━━━━━━━\u001b[0m\u001b[37m\u001b[0m \u001b[1m53s\u001b[0m 56ms/step - accuracy: 0.9939 - loss: 0.0233 - val_accuracy: 0.9861 - val_loss: 0.0378\n",
            "Epoch 6/15\n",
            "\u001b[1m938/938\u001b[0m \u001b[32m━━━━━━━━━━━━━━━━━━━━\u001b[0m\u001b[37m\u001b[0m \u001b[1m52s\u001b[0m 56ms/step - accuracy: 0.9963 - loss: 0.0154 - val_accuracy: 0.9869 - val_loss: 0.0372\n",
            "Epoch 7/15\n",
            "\u001b[1m938/938\u001b[0m \u001b[32m━━━━━━━━━━━━━━━━━━━━\u001b[0m\u001b[37m\u001b[0m \u001b[1m52s\u001b[0m 56ms/step - accuracy: 0.9977 - loss: 0.0115 - val_accuracy: 0.9874 - val_loss: 0.0354\n",
            "Epoch 8/15\n",
            "\u001b[1m938/938\u001b[0m \u001b[32m━━━━━━━━━━━━━━━━━━━━\u001b[0m\u001b[37m\u001b[0m \u001b[1m52s\u001b[0m 56ms/step - accuracy: 0.9985 - loss: 0.0077 - val_accuracy: 0.9878 - val_loss: 0.0341\n",
            "Epoch 9/15\n",
            "\u001b[1m938/938\u001b[0m \u001b[32m━━━━━━━━━━━━━━━━━━━━\u001b[0m\u001b[37m\u001b[0m \u001b[1m53s\u001b[0m 56ms/step - accuracy: 0.9994 - loss: 0.0053 - val_accuracy: 0.9887 - val_loss: 0.0323\n",
            "Epoch 10/15\n",
            "\u001b[1m938/938\u001b[0m \u001b[32m━━━━━━━━━━━━━━━━━━━━\u001b[0m\u001b[37m\u001b[0m \u001b[1m52s\u001b[0m 56ms/step - accuracy: 0.9996 - loss: 0.0040 - val_accuracy: 0.9876 - val_loss: 0.0356\n",
            "Epoch 11/15\n",
            "\u001b[1m938/938\u001b[0m \u001b[32m━━━━━━━━━━━━━━━━━━━━\u001b[0m\u001b[37m\u001b[0m \u001b[1m53s\u001b[0m 56ms/step - accuracy: 0.9997 - loss: 0.0035 - val_accuracy: 0.9894 - val_loss: 0.0314\n",
            "Epoch 12/15\n",
            "\u001b[1m938/938\u001b[0m \u001b[32m━━━━━━━━━━━━━━━━━━━━\u001b[0m\u001b[37m\u001b[0m \u001b[1m52s\u001b[0m 56ms/step - accuracy: 0.9997 - loss: 0.0027 - val_accuracy: 0.9895 - val_loss: 0.0314\n",
            "Epoch 13/15\n",
            "\u001b[1m938/938\u001b[0m \u001b[32m━━━━━━━━━━━━━━━━━━━━\u001b[0m\u001b[37m\u001b[0m \u001b[1m52s\u001b[0m 56ms/step - accuracy: 0.9998 - loss: 0.0023 - val_accuracy: 0.9896 - val_loss: 0.0326\n",
            "Epoch 14/15\n",
            "\u001b[1m938/938\u001b[0m \u001b[32m━━━━━━━━━━━━━━━━━━━━\u001b[0m\u001b[37m\u001b[0m \u001b[1m52s\u001b[0m 56ms/step - accuracy: 0.9999 - loss: 0.0018 - val_accuracy: 0.9900 - val_loss: 0.0315\n",
            "Epoch 15/15\n",
            "\u001b[1m938/938\u001b[0m \u001b[32m━━━━━━━━━━━━━━━━━━━━\u001b[0m\u001b[37m\u001b[0m \u001b[1m52s\u001b[0m 56ms/step - accuracy: 0.9999 - loss: 0.0015 - val_accuracy: 0.9894 - val_loss: 0.0319\n",
            "\n",
            "Average time per epoch: 52.43 seconds\n"
          ]
        }
      ]
    },
    {
      "cell_type": "code",
      "source": [
        "val_loss, val_accuracy = cnn_model11.evaluate(x_test, y_test_cat)"
      ],
      "metadata": {
        "id": "5PjyACoSeACB",
        "colab": {
          "base_uri": "https://localhost:8080/"
        },
        "outputId": "2f5b0ffa-5e79-43f5-c148-fb6559cb91f6"
      },
      "execution_count": 56,
      "outputs": [
        {
          "output_type": "stream",
          "name": "stdout",
          "text": [
            "\u001b[1m313/313\u001b[0m \u001b[32m━━━━━━━━━━━━━━━━━━━━\u001b[0m\u001b[37m\u001b[0m \u001b[1m2s\u001b[0m 6ms/step - accuracy: 0.9866 - loss: 0.0408\n"
          ]
        }
      ]
    },
    {
      "cell_type": "code",
      "source": [
        "# fitting with relu6 activation function with the best parameters from the previous models (15 epoch, 0.1 LR, 2 Conv2D, 3 FC, 64 batch size)\n",
        "cnn_model13 = Sequential()\n",
        "cnn_model13.add(Conv2D(16, (3, 3), activation='relu6', input_shape=(28, 28, 1)))\n",
        "cnn_model13.add(Conv2D(16, (3, 3), activation='relu6', input_shape=(28, 28, 1)))\n",
        "cnn_model13.add(MaxPooling2D(pool_size=(2, 2), strides=(2, 2)))\n",
        "cnn_model13.add(Flatten())\n",
        "cnn_model13.add(Dense(256, activation=\"relu6\"))\n",
        "cnn_model13.add(Dense(128, activation=\"relu6\"))\n",
        "cnn_model13.add(Dense(10, activation=\"softmax\"))\n",
        "cnn_model13.compile(\n",
        "optimizer=SGD(learning_rate=0.1),\n",
        "loss=\"categorical_crossentropy\",\n",
        "metrics=[\"accuracy\"],\n",
        "    )\n",
        "\n",
        "start_time = time.time()\n",
        "\n",
        "cnn_model13.fit(\n",
        "    x_train, y_train_cat,\n",
        "    batch_size=64,\n",
        "    epochs=15,\n",
        "    validation_data=(x_test, y_test_cat),\n",
        "    shuffle=True\n",
        ")\n",
        "\n",
        "total_time = time.time() - start_time\n",
        "print(f\"\\nAverage time per epoch: {total_time/15:.2f} seconds\")"
      ],
      "metadata": {
        "id": "HYnTXA4bigMc",
        "colab": {
          "base_uri": "https://localhost:8080/"
        },
        "outputId": "a0bb5ed7-b73d-4c50-8c19-809cf4c31a9e"
      },
      "execution_count": 57,
      "outputs": [
        {
          "output_type": "stream",
          "name": "stdout",
          "text": [
            "Epoch 1/15\n",
            "\u001b[1m938/938\u001b[0m \u001b[32m━━━━━━━━━━━━━━━━━━━━\u001b[0m\u001b[37m\u001b[0m \u001b[1m49s\u001b[0m 52ms/step - accuracy: 0.8276 - loss: 0.5390 - val_accuracy: 0.9740 - val_loss: 0.0742\n",
            "Epoch 2/15\n",
            "\u001b[1m938/938\u001b[0m \u001b[32m━━━━━━━━━━━━━━━━━━━━\u001b[0m\u001b[37m\u001b[0m \u001b[1m49s\u001b[0m 52ms/step - accuracy: 0.9790 - loss: 0.0686 - val_accuracy: 0.9808 - val_loss: 0.0609\n",
            "Epoch 3/15\n",
            "\u001b[1m938/938\u001b[0m \u001b[32m━━━━━━━━━━━━━━━━━━━━\u001b[0m\u001b[37m\u001b[0m \u001b[1m47s\u001b[0m 51ms/step - accuracy: 0.9871 - loss: 0.0403 - val_accuracy: 0.9859 - val_loss: 0.0417\n",
            "Epoch 4/15\n",
            "\u001b[1m938/938\u001b[0m \u001b[32m━━━━━━━━━━━━━━━━━━━━\u001b[0m\u001b[37m\u001b[0m \u001b[1m48s\u001b[0m 51ms/step - accuracy: 0.9929 - loss: 0.0240 - val_accuracy: 0.9885 - val_loss: 0.0371\n",
            "Epoch 5/15\n",
            "\u001b[1m938/938\u001b[0m \u001b[32m━━━━━━━━━━━━━━━━━━━━\u001b[0m\u001b[37m\u001b[0m \u001b[1m48s\u001b[0m 51ms/step - accuracy: 0.9951 - loss: 0.0160 - val_accuracy: 0.9854 - val_loss: 0.0456\n",
            "Epoch 6/15\n",
            "\u001b[1m938/938\u001b[0m \u001b[32m━━━━━━━━━━━━━━━━━━━━\u001b[0m\u001b[37m\u001b[0m \u001b[1m48s\u001b[0m 51ms/step - accuracy: 0.9964 - loss: 0.0115 - val_accuracy: 0.9874 - val_loss: 0.0407\n",
            "Epoch 7/15\n",
            "\u001b[1m938/938\u001b[0m \u001b[32m━━━━━━━━━━━━━━━━━━━━\u001b[0m\u001b[37m\u001b[0m \u001b[1m48s\u001b[0m 51ms/step - accuracy: 0.9974 - loss: 0.0082 - val_accuracy: 0.9871 - val_loss: 0.0400\n",
            "Epoch 8/15\n",
            "\u001b[1m938/938\u001b[0m \u001b[32m━━━━━━━━━━━━━━━━━━━━\u001b[0m\u001b[37m\u001b[0m \u001b[1m48s\u001b[0m 51ms/step - accuracy: 0.9979 - loss: 0.0066 - val_accuracy: 0.9886 - val_loss: 0.0371\n",
            "Epoch 9/15\n",
            "\u001b[1m938/938\u001b[0m \u001b[32m━━━━━━━━━━━━━━━━━━━━\u001b[0m\u001b[37m\u001b[0m \u001b[1m48s\u001b[0m 51ms/step - accuracy: 0.9984 - loss: 0.0055 - val_accuracy: 0.9898 - val_loss: 0.0339\n",
            "Epoch 10/15\n",
            "\u001b[1m938/938\u001b[0m \u001b[32m━━━━━━━━━━━━━━━━━━━━\u001b[0m\u001b[37m\u001b[0m \u001b[1m48s\u001b[0m 51ms/step - accuracy: 0.9994 - loss: 0.0021 - val_accuracy: 0.9903 - val_loss: 0.0345\n",
            "Epoch 11/15\n",
            "\u001b[1m938/938\u001b[0m \u001b[32m━━━━━━━━━━━━━━━━━━━━\u001b[0m\u001b[37m\u001b[0m \u001b[1m48s\u001b[0m 51ms/step - accuracy: 0.9998 - loss: 0.0012 - val_accuracy: 0.9888 - val_loss: 0.0392\n",
            "Epoch 12/15\n",
            "\u001b[1m938/938\u001b[0m \u001b[32m━━━━━━━━━━━━━━━━━━━━\u001b[0m\u001b[37m\u001b[0m \u001b[1m47s\u001b[0m 51ms/step - accuracy: 1.0000 - loss: 6.6212e-04 - val_accuracy: 0.9903 - val_loss: 0.0366\n",
            "Epoch 13/15\n",
            "\u001b[1m938/938\u001b[0m \u001b[32m━━━━━━━━━━━━━━━━━━━━\u001b[0m\u001b[37m\u001b[0m \u001b[1m48s\u001b[0m 51ms/step - accuracy: 0.9999 - loss: 5.2028e-04 - val_accuracy: 0.9900 - val_loss: 0.0368\n",
            "Epoch 14/15\n",
            "\u001b[1m938/938\u001b[0m \u001b[32m━━━━━━━━━━━━━━━━━━━━\u001b[0m\u001b[37m\u001b[0m \u001b[1m48s\u001b[0m 51ms/step - accuracy: 1.0000 - loss: 3.1348e-04 - val_accuracy: 0.9902 - val_loss: 0.0361\n",
            "Epoch 15/15\n",
            "\u001b[1m938/938\u001b[0m \u001b[32m━━━━━━━━━━━━━━━━━━━━\u001b[0m\u001b[37m\u001b[0m \u001b[1m48s\u001b[0m 51ms/step - accuracy: 1.0000 - loss: 2.3373e-04 - val_accuracy: 0.9905 - val_loss: 0.0362\n",
            "\n",
            "Average time per epoch: 47.84 seconds\n"
          ]
        }
      ]
    },
    {
      "cell_type": "code",
      "source": [
        "val_loss, val_accuracy = cnn_model13.evaluate(x_test, y_test_cat)"
      ],
      "metadata": {
        "id": "Sd4bGav3ixXP",
        "colab": {
          "base_uri": "https://localhost:8080/"
        },
        "outputId": "068163ed-ddb4-4390-82bf-acae252eceac"
      },
      "execution_count": 58,
      "outputs": [
        {
          "output_type": "stream",
          "name": "stdout",
          "text": [
            "\u001b[1m313/313\u001b[0m \u001b[32m━━━━━━━━━━━━━━━━━━━━\u001b[0m\u001b[37m\u001b[0m \u001b[1m2s\u001b[0m 6ms/step - accuracy: 0.9876 - loss: 0.0471\n"
          ]
        }
      ]
    },
    {
      "cell_type": "markdown",
      "source": [
        "## Observation:\n",
        "we notice that `sigmoid` has lowered the accuracy with around 1% percent, and `tanh` lowered it with a slight amount same as `relu6`, so we stick to the same parameters from the previous phase:\n",
        "\n",
        "* 2 Conv2D layers\n",
        "\n",
        "* 3 FC layers\n",
        "\n",
        "* 15 epoch\n",
        "\n",
        "* 0.1 LR\n",
        "\n",
        "* 64 Batch Size\n",
        "\n",
        "* relu activation function\n",
        "\n",
        "---\n"
      ],
      "metadata": {
        "id": "sGizwR9ktm5Q"
      }
    },
    {
      "cell_type": "markdown",
      "source": [
        "### Now we try with different optimizers:\n",
        "* adam\n",
        "* RMSprop"
      ],
      "metadata": {
        "id": "_pCLSf5nuXUG"
      }
    },
    {
      "cell_type": "code",
      "source": [
        "# fitting with adam optimizer with the best parameters from the previous models (15 epoch, 0.1 LR, 2 Conv2D, 3 FC, 64 batch size, relu activation)\n",
        "cnn_model14 = Sequential()\n",
        "cnn_model14.add(Conv2D(16, (3, 3), activation='relu', input_shape=(28, 28, 1)))\n",
        "cnn_model14.add(Conv2D(16, (3, 3), activation='relu', input_shape=(28, 28, 1)))\n",
        "cnn_model14.add(MaxPooling2D(pool_size=(2, 2), strides=(2, 2)))\n",
        "cnn_model14.add(Flatten())\n",
        "cnn_model14.add(Dense(256, activation=\"relu\"))\n",
        "cnn_model14.add(Dense(128, activation=\"relu\"))\n",
        "cnn_model14.add(Dense(10, activation=\"softmax\"))\n",
        "cnn_model14.compile(\n",
        "optimizer = Adam(learning_rate=0.1),\n",
        "loss=\"categorical_crossentropy\",\n",
        "metrics = [\"accuracy\"],\n",
        "    )\n",
        "\n",
        "start_time = time.time()\n",
        "\n",
        "cnn_model14.fit(\n",
        "    x_train, y_train_cat,\n",
        "    batch_size=64,\n",
        "    epochs=15,\n",
        "    validation_data=(x_test, y_test_cat),\n",
        "    shuffle=True\n",
        ")\n",
        "\n",
        "total_time = time.time() - start_time\n",
        "print(f\"\\nAverage time per epoch: {total_time/15:.2f} seconds\")"
      ],
      "metadata": {
        "id": "OHxV-GaHjixN",
        "colab": {
          "base_uri": "https://localhost:8080/"
        },
        "outputId": "f327c153-a9bc-4686-f304-dd75b7287e2b"
      },
      "execution_count": 59,
      "outputs": [
        {
          "output_type": "stream",
          "name": "stdout",
          "text": [
            "Epoch 1/15\n",
            "\u001b[1m938/938\u001b[0m \u001b[32m━━━━━━━━━━━━━━━━━━━━\u001b[0m\u001b[37m\u001b[0m \u001b[1m60s\u001b[0m 63ms/step - accuracy: 0.1015 - loss: 4.1179 - val_accuracy: 0.1009 - val_loss: 2.3075\n",
            "Epoch 2/15\n",
            "\u001b[1m938/938\u001b[0m \u001b[32m━━━━━━━━━━━━━━━━━━━━\u001b[0m\u001b[37m\u001b[0m \u001b[1m58s\u001b[0m 62ms/step - accuracy: 0.1052 - loss: 2.3095 - val_accuracy: 0.1135 - val_loss: 2.3060\n",
            "Epoch 3/15\n",
            "\u001b[1m938/938\u001b[0m \u001b[32m━━━━━━━━━━━━━━━━━━━━\u001b[0m\u001b[37m\u001b[0m \u001b[1m58s\u001b[0m 62ms/step - accuracy: 0.1017 - loss: 2.3101 - val_accuracy: 0.0958 - val_loss: 2.3064\n",
            "Epoch 4/15\n",
            "\u001b[1m938/938\u001b[0m \u001b[32m━━━━━━━━━━━━━━━━━━━━\u001b[0m\u001b[37m\u001b[0m \u001b[1m58s\u001b[0m 62ms/step - accuracy: 0.1023 - loss: 2.3103 - val_accuracy: 0.1032 - val_loss: 2.3067\n",
            "Epoch 5/15\n",
            "\u001b[1m938/938\u001b[0m \u001b[32m━━━━━━━━━━━━━━━━━━━━\u001b[0m\u001b[37m\u001b[0m \u001b[1m58s\u001b[0m 62ms/step - accuracy: 0.1018 - loss: 2.3103 - val_accuracy: 0.1135 - val_loss: 2.3056\n",
            "Epoch 6/15\n",
            "\u001b[1m938/938\u001b[0m \u001b[32m━━━━━━━━━━━━━━━━━━━━\u001b[0m\u001b[37m\u001b[0m \u001b[1m58s\u001b[0m 62ms/step - accuracy: 0.1065 - loss: 2.3101 - val_accuracy: 0.0974 - val_loss: 2.3069\n",
            "Epoch 7/15\n",
            "\u001b[1m938/938\u001b[0m \u001b[32m━━━━━━━━━━━━━━━━━━━━\u001b[0m\u001b[37m\u001b[0m \u001b[1m58s\u001b[0m 62ms/step - accuracy: 0.1083 - loss: 2.3093 - val_accuracy: 0.1135 - val_loss: 2.3103\n",
            "Epoch 8/15\n",
            "\u001b[1m938/938\u001b[0m \u001b[32m━━━━━━━━━━━━━━━━━━━━\u001b[0m\u001b[37m\u001b[0m \u001b[1m58s\u001b[0m 62ms/step - accuracy: 0.1028 - loss: 2.3102 - val_accuracy: 0.0892 - val_loss: 2.3059\n",
            "Epoch 9/15\n",
            "\u001b[1m938/938\u001b[0m \u001b[32m━━━━━━━━━━━━━━━━━━━━\u001b[0m\u001b[37m\u001b[0m \u001b[1m58s\u001b[0m 62ms/step - accuracy: 0.1047 - loss: 2.3088 - val_accuracy: 0.1010 - val_loss: 2.3093\n",
            "Epoch 10/15\n",
            "\u001b[1m938/938\u001b[0m \u001b[32m━━━━━━━━━━━━━━━━━━━━\u001b[0m\u001b[37m\u001b[0m \u001b[1m58s\u001b[0m 62ms/step - accuracy: 0.1062 - loss: 2.3089 - val_accuracy: 0.1135 - val_loss: 2.3050\n",
            "Epoch 11/15\n",
            "\u001b[1m938/938\u001b[0m \u001b[32m━━━━━━━━━━━━━━━━━━━━\u001b[0m\u001b[37m\u001b[0m \u001b[1m58s\u001b[0m 62ms/step - accuracy: 0.1058 - loss: 2.3107 - val_accuracy: 0.1009 - val_loss: 2.3197\n",
            "Epoch 12/15\n",
            "\u001b[1m938/938\u001b[0m \u001b[32m━━━━━━━━━━━━━━━━━━━━\u001b[0m\u001b[37m\u001b[0m \u001b[1m58s\u001b[0m 62ms/step - accuracy: 0.1053 - loss: 2.3103 - val_accuracy: 0.1009 - val_loss: 2.3083\n",
            "Epoch 13/15\n",
            "\u001b[1m938/938\u001b[0m \u001b[32m━━━━━━━━━━━━━━━━━━━━\u001b[0m\u001b[37m\u001b[0m \u001b[1m58s\u001b[0m 62ms/step - accuracy: 0.1027 - loss: 2.3101 - val_accuracy: 0.1135 - val_loss: 2.3163\n",
            "Epoch 14/15\n",
            "\u001b[1m938/938\u001b[0m \u001b[32m━━━━━━━━━━━━━━━━━━━━\u001b[0m\u001b[37m\u001b[0m \u001b[1m58s\u001b[0m 62ms/step - accuracy: 0.1022 - loss: 2.3104 - val_accuracy: 0.1032 - val_loss: 2.3081\n",
            "Epoch 15/15\n",
            "\u001b[1m938/938\u001b[0m \u001b[32m━━━━━━━━━━━━━━━━━━━━\u001b[0m\u001b[37m\u001b[0m \u001b[1m58s\u001b[0m 62ms/step - accuracy: 0.1046 - loss: 2.3092 - val_accuracy: 0.1135 - val_loss: 2.3054\n",
            "\n",
            "Average time per epoch: 58.07 seconds\n"
          ]
        }
      ]
    },
    {
      "cell_type": "code",
      "source": [
        "val_loss, val_accuracy = cnn_model14.evaluate(x_test, y_test_cat)"
      ],
      "metadata": {
        "id": "sKx1psDPu2L-",
        "colab": {
          "base_uri": "https://localhost:8080/"
        },
        "outputId": "529344a2-4eee-4bbb-8034-83222d3a67e8"
      },
      "execution_count": 60,
      "outputs": [
        {
          "output_type": "stream",
          "name": "stdout",
          "text": [
            "\u001b[1m313/313\u001b[0m \u001b[32m━━━━━━━━━━━━━━━━━━━━\u001b[0m\u001b[37m\u001b[0m \u001b[1m2s\u001b[0m 6ms/step - accuracy: 0.1160 - loss: 2.3038\n"
          ]
        }
      ]
    },
    {
      "cell_type": "code",
      "source": [
        "# fitting with RMSprop optimizer with the best parameters from the previous models (15 epoch, 0.1 LR, 2 Conv2D, 3 FC, 64 batch size, relu activation)\n",
        "cnn_model15 = Sequential()\n",
        "cnn_model15.add(Conv2D(16, (3, 3), activation='relu', input_shape=(28, 28, 1)))\n",
        "cnn_model15.add(Conv2D(16, (3, 3), activation='relu', input_shape=(28, 28, 1)))\n",
        "cnn_model15.add(MaxPooling2D(pool_size=(2, 2), strides=(2, 2)))\n",
        "cnn_model15.add(Flatten())\n",
        "cnn_model15.add(Dense(256, activation=\"relu\"))\n",
        "cnn_model15.add(Dense(128, activation=\"relu\"))\n",
        "cnn_model15.add(Dense(10, activation=\"softmax\"))\n",
        "cnn_model15.compile(\n",
        "optimizer = RMSprop(learning_rate=0.1),\n",
        "loss=\"categorical_crossentropy\",\n",
        "metrics = [\"accuracy\"],\n",
        "    )\n",
        "\n",
        "start_time = time.time()\n",
        "\n",
        "cnn_model15.fit(\n",
        "    x_train, y_train_cat,\n",
        "    batch_size=64,\n",
        "    epochs=15,\n",
        "    validation_data=(x_test, y_test_cat),\n",
        "    shuffle=True\n",
        ")\n",
        "\n",
        "total_time = time.time() - start_time\n",
        "print(f\"\\nAverage time per epoch: {total_time/15:.2f} seconds\")"
      ],
      "metadata": {
        "id": "1hGMsD8w1tYn",
        "colab": {
          "base_uri": "https://localhost:8080/"
        },
        "outputId": "02442cf8-47ac-48d7-dcd3-0614fd307ce9"
      },
      "execution_count": 61,
      "outputs": [
        {
          "output_type": "stream",
          "name": "stdout",
          "text": [
            "Epoch 1/15\n",
            "\u001b[1m938/938\u001b[0m \u001b[32m━━━━━━━━━━━━━━━━━━━━\u001b[0m\u001b[37m\u001b[0m \u001b[1m55s\u001b[0m 57ms/step - accuracy: 0.1060 - loss: 95.7635 - val_accuracy: 0.1009 - val_loss: 2.3197\n",
            "Epoch 2/15\n",
            "\u001b[1m938/938\u001b[0m \u001b[32m━━━━━━━━━━━━━━━━━━━━\u001b[0m\u001b[37m\u001b[0m \u001b[1m53s\u001b[0m 57ms/step - accuracy: 0.1044 - loss: 2.3104 - val_accuracy: 0.1032 - val_loss: 2.3205\n",
            "Epoch 3/15\n",
            "\u001b[1m938/938\u001b[0m \u001b[32m━━━━━━━━━━━━━━━━━━━━\u001b[0m\u001b[37m\u001b[0m \u001b[1m53s\u001b[0m 56ms/step - accuracy: 0.1016 - loss: 2.3117 - val_accuracy: 0.1028 - val_loss: 2.3149\n",
            "Epoch 4/15\n",
            "\u001b[1m938/938\u001b[0m \u001b[32m━━━━━━━━━━━━━━━━━━━━\u001b[0m\u001b[37m\u001b[0m \u001b[1m53s\u001b[0m 56ms/step - accuracy: 0.1035 - loss: 2.3109 - val_accuracy: 0.0982 - val_loss: 2.3083\n",
            "Epoch 5/15\n",
            "\u001b[1m938/938\u001b[0m \u001b[32m━━━━━━━━━━━━━━━━━━━━\u001b[0m\u001b[37m\u001b[0m \u001b[1m53s\u001b[0m 56ms/step - accuracy: 0.1051 - loss: 2.3109 - val_accuracy: 0.1010 - val_loss: 2.3308\n",
            "Epoch 6/15\n",
            "\u001b[1m938/938\u001b[0m \u001b[32m━━━━━━━━━━━━━━━━━━━━\u001b[0m\u001b[37m\u001b[0m \u001b[1m53s\u001b[0m 56ms/step - accuracy: 0.1007 - loss: 2.3116 - val_accuracy: 0.1135 - val_loss: 2.3194\n",
            "Epoch 7/15\n",
            "\u001b[1m938/938\u001b[0m \u001b[32m━━━━━━━━━━━━━━━━━━━━\u001b[0m\u001b[37m\u001b[0m \u001b[1m53s\u001b[0m 57ms/step - accuracy: 0.1035 - loss: 2.3112 - val_accuracy: 0.0982 - val_loss: 2.3097\n",
            "Epoch 8/15\n",
            "\u001b[1m938/938\u001b[0m \u001b[32m━━━━━━━━━━━━━━━━━━━━\u001b[0m\u001b[37m\u001b[0m \u001b[1m53s\u001b[0m 56ms/step - accuracy: 0.1056 - loss: 2.3100 - val_accuracy: 0.1028 - val_loss: 2.3146\n",
            "Epoch 9/15\n",
            "\u001b[1m938/938\u001b[0m \u001b[32m━━━━━━━━━━━━━━━━━━━━\u001b[0m\u001b[37m\u001b[0m \u001b[1m53s\u001b[0m 56ms/step - accuracy: 0.1024 - loss: 2.3119 - val_accuracy: 0.1010 - val_loss: 2.3080\n",
            "Epoch 10/15\n",
            "\u001b[1m938/938\u001b[0m \u001b[32m━━━━━━━━━━━━━━━━━━━━\u001b[0m\u001b[37m\u001b[0m \u001b[1m53s\u001b[0m 56ms/step - accuracy: 0.1060 - loss: 2.3095 - val_accuracy: 0.1135 - val_loss: 2.3136\n",
            "Epoch 11/15\n",
            "\u001b[1m938/938\u001b[0m \u001b[32m━━━━━━━━━━━━━━━━━━━━\u001b[0m\u001b[37m\u001b[0m \u001b[1m53s\u001b[0m 57ms/step - accuracy: 0.1039 - loss: 2.3108 - val_accuracy: 0.1135 - val_loss: 2.3137\n",
            "Epoch 12/15\n",
            "\u001b[1m938/938\u001b[0m \u001b[32m━━━━━━━━━━━━━━━━━━━━\u001b[0m\u001b[37m\u001b[0m \u001b[1m53s\u001b[0m 56ms/step - accuracy: 0.1082 - loss: 2.3099 - val_accuracy: 0.0958 - val_loss: 2.3067\n",
            "Epoch 13/15\n",
            "\u001b[1m938/938\u001b[0m \u001b[32m━━━━━━━━━━━━━━━━━━━━\u001b[0m\u001b[37m\u001b[0m \u001b[1m53s\u001b[0m 57ms/step - accuracy: 0.1010 - loss: 2.3114 - val_accuracy: 0.0982 - val_loss: 2.3159\n",
            "Epoch 14/15\n",
            "\u001b[1m938/938\u001b[0m \u001b[32m━━━━━━━━━━━━━━━━━━━━\u001b[0m\u001b[37m\u001b[0m \u001b[1m53s\u001b[0m 57ms/step - accuracy: 0.1047 - loss: 2.3106 - val_accuracy: 0.1009 - val_loss: 2.3106\n",
            "Epoch 15/15\n",
            "\u001b[1m938/938\u001b[0m \u001b[32m━━━━━━━━━━━━━━━━━━━━\u001b[0m\u001b[37m\u001b[0m \u001b[1m53s\u001b[0m 56ms/step - accuracy: 0.1023 - loss: 2.3108 - val_accuracy: 0.0974 - val_loss: 2.3240\n",
            "\n",
            "Average time per epoch: 53.08 seconds\n"
          ]
        }
      ]
    },
    {
      "cell_type": "code",
      "source": [
        "val_loss, val_accuracy = cnn_model15.evaluate(x_test, y_test_cat)"
      ],
      "metadata": {
        "id": "kI-CtNXj15r4",
        "colab": {
          "base_uri": "https://localhost:8080/"
        },
        "outputId": "acbde0b1-8f46-4a63-b4c4-2f8f9e56ddd6"
      },
      "execution_count": 62,
      "outputs": [
        {
          "output_type": "stream",
          "name": "stdout",
          "text": [
            "\u001b[1m313/313\u001b[0m \u001b[32m━━━━━━━━━━━━━━━━━━━━\u001b[0m\u001b[37m\u001b[0m \u001b[1m2s\u001b[0m 6ms/step - accuracy: 0.0941 - loss: 2.3224\n"
          ]
        }
      ]
    },
    {
      "cell_type": "markdown",
      "source": [
        "## Observation:\n",
        "we noticed that the 2 different optimizers has lowered the accuracy to 1% which is not acceptable so we will get back to SGD optimizer:\n",
        "\n",
        "* 2 Conv2D layers\n",
        "\n",
        "* 3 FC layers\n",
        "\n",
        "* 15 epoch\n",
        "\n",
        "* 0.1 LR\n",
        "\n",
        "* 64 Batch Size\n",
        "\n",
        "* relu activation function\n",
        "\n",
        "* SGD Optimizer\n",
        "\n",
        "---\n"
      ],
      "metadata": {
        "id": "5iypXwDe6PJL"
      }
    },
    {
      "cell_type": "markdown",
      "source": [
        "### Now we try with dropouts in different places:\n",
        "\n",
        "* Dropout(0.3) after first FC\n",
        "\n",
        "* Dropout(0.5) after first FC\n",
        "\n",
        "* Dropout(0.3) after last CNN"
      ],
      "metadata": {
        "id": "Okv4SbJP6ic0"
      }
    },
    {
      "cell_type": "code",
      "source": [
        "# fitting with dropout of (0.3) after the first FC layer with the best parameters from the previous models (15 epoch, 0.1 LR, 2 Conv2D, 3 FC, 64 batch size, relu activation function, SGD optimizer,)\n",
        "cnn_model16 = Sequential()\n",
        "cnn_model16.add(Conv2D(16, (3, 3), activation='relu', input_shape=(28, 28, 1)))\n",
        "cnn_model16.add(Conv2D(16, (3, 3), activation='relu', input_shape=(28, 28, 1)))\n",
        "cnn_model16.add(MaxPooling2D(pool_size=(2, 2), strides=(2, 2)))\n",
        "cnn_model16.add(Flatten())\n",
        "cnn_model16.add(Dense(256, activation=\"relu\"))\n",
        "cnn_model16.add(Dropout(0.3))\n",
        "cnn_model16.add(Dense(128, activation=\"relu\"))\n",
        "cnn_model16.add(Dense(10, activation=\"softmax\"))\n",
        "cnn_model16.compile(\n",
        "optimizer=SGD(learning_rate=0.1),\n",
        "loss=\"categorical_crossentropy\",\n",
        "metrics=[\"accuracy\"],\n",
        "    )\n",
        "\n",
        "start_time = time.time()\n",
        "\n",
        "cnn_model16.fit(\n",
        "    x_train, y_train_cat,\n",
        "    batch_size=64,\n",
        "    epochs=15,\n",
        "    validation_data=(x_test, y_test_cat),\n",
        "    shuffle=True\n",
        ")\n",
        "\n",
        "total_time = time.time() - start_time\n",
        "print(f\"\\nAverage time per epoch: {total_time/15:.2f} seconds\")"
      ],
      "metadata": {
        "id": "NI2kEaRF6gRS",
        "colab": {
          "base_uri": "https://localhost:8080/"
        },
        "outputId": "de93eaaa-6537-4126-c2ac-9b9609863d4a"
      },
      "execution_count": 63,
      "outputs": [
        {
          "output_type": "stream",
          "name": "stdout",
          "text": [
            "Epoch 1/15\n",
            "\u001b[1m938/938\u001b[0m \u001b[32m━━━━━━━━━━━━━━━━━━━━\u001b[0m\u001b[37m\u001b[0m \u001b[1m49s\u001b[0m 51ms/step - accuracy: 0.8026 - loss: 0.6181 - val_accuracy: 0.9737 - val_loss: 0.0823\n",
            "Epoch 2/15\n",
            "\u001b[1m938/938\u001b[0m \u001b[32m━━━━━━━━━━━━━━━━━━━━\u001b[0m\u001b[37m\u001b[0m \u001b[1m48s\u001b[0m 51ms/step - accuracy: 0.9702 - loss: 0.0962 - val_accuracy: 0.9843 - val_loss: 0.0503\n",
            "Epoch 3/15\n",
            "\u001b[1m938/938\u001b[0m \u001b[32m━━━━━━━━━━━━━━━━━━━━\u001b[0m\u001b[37m\u001b[0m \u001b[1m48s\u001b[0m 51ms/step - accuracy: 0.9812 - loss: 0.0642 - val_accuracy: 0.9846 - val_loss: 0.0438\n",
            "Epoch 4/15\n",
            "\u001b[1m938/938\u001b[0m \u001b[32m━━━━━━━━━━━━━━━━━━━━\u001b[0m\u001b[37m\u001b[0m \u001b[1m48s\u001b[0m 51ms/step - accuracy: 0.9860 - loss: 0.0462 - val_accuracy: 0.9874 - val_loss: 0.0385\n",
            "Epoch 5/15\n",
            "\u001b[1m938/938\u001b[0m \u001b[32m━━━━━━━━━━━━━━━━━━━━\u001b[0m\u001b[37m\u001b[0m \u001b[1m48s\u001b[0m 51ms/step - accuracy: 0.9889 - loss: 0.0352 - val_accuracy: 0.9887 - val_loss: 0.0332\n",
            "Epoch 6/15\n",
            "\u001b[1m938/938\u001b[0m \u001b[32m━━━━━━━━━━━━━━━━━━━━\u001b[0m\u001b[37m\u001b[0m \u001b[1m48s\u001b[0m 51ms/step - accuracy: 0.9901 - loss: 0.0314 - val_accuracy: 0.9895 - val_loss: 0.0318\n",
            "Epoch 7/15\n",
            "\u001b[1m938/938\u001b[0m \u001b[32m━━━━━━━━━━━━━━━━━━━━\u001b[0m\u001b[37m\u001b[0m \u001b[1m48s\u001b[0m 51ms/step - accuracy: 0.9922 - loss: 0.0249 - val_accuracy: 0.9901 - val_loss: 0.0312\n",
            "Epoch 8/15\n",
            "\u001b[1m938/938\u001b[0m \u001b[32m━━━━━━━━━━━━━━━━━━━━\u001b[0m\u001b[37m\u001b[0m \u001b[1m48s\u001b[0m 51ms/step - accuracy: 0.9933 - loss: 0.0223 - val_accuracy: 0.9894 - val_loss: 0.0339\n",
            "Epoch 9/15\n",
            "\u001b[1m938/938\u001b[0m \u001b[32m━━━━━━━━━━━━━━━━━━━━\u001b[0m\u001b[37m\u001b[0m \u001b[1m48s\u001b[0m 51ms/step - accuracy: 0.9945 - loss: 0.0177 - val_accuracy: 0.9906 - val_loss: 0.0329\n",
            "Epoch 10/15\n",
            "\u001b[1m938/938\u001b[0m \u001b[32m━━━━━━━━━━━━━━━━━━━━\u001b[0m\u001b[37m\u001b[0m \u001b[1m48s\u001b[0m 51ms/step - accuracy: 0.9945 - loss: 0.0165 - val_accuracy: 0.9903 - val_loss: 0.0301\n",
            "Epoch 11/15\n",
            "\u001b[1m938/938\u001b[0m \u001b[32m━━━━━━━━━━━━━━━━━━━━\u001b[0m\u001b[37m\u001b[0m \u001b[1m47s\u001b[0m 51ms/step - accuracy: 0.9951 - loss: 0.0144 - val_accuracy: 0.9907 - val_loss: 0.0304\n",
            "Epoch 12/15\n",
            "\u001b[1m938/938\u001b[0m \u001b[32m━━━━━━━━━━━━━━━━━━━━\u001b[0m\u001b[37m\u001b[0m \u001b[1m48s\u001b[0m 51ms/step - accuracy: 0.9957 - loss: 0.0127 - val_accuracy: 0.9891 - val_loss: 0.0392\n",
            "Epoch 13/15\n",
            "\u001b[1m938/938\u001b[0m \u001b[32m━━━━━━━━━━━━━━━━━━━━\u001b[0m\u001b[37m\u001b[0m \u001b[1m47s\u001b[0m 51ms/step - accuracy: 0.9956 - loss: 0.0120 - val_accuracy: 0.9902 - val_loss: 0.0314\n",
            "Epoch 14/15\n",
            "\u001b[1m938/938\u001b[0m \u001b[32m━━━━━━━━━━━━━━━━━━━━\u001b[0m\u001b[37m\u001b[0m \u001b[1m47s\u001b[0m 51ms/step - accuracy: 0.9966 - loss: 0.0102 - val_accuracy: 0.9912 - val_loss: 0.0332\n",
            "Epoch 15/15\n",
            "\u001b[1m938/938\u001b[0m \u001b[32m━━━━━━━━━━━━━━━━━━━━\u001b[0m\u001b[37m\u001b[0m \u001b[1m48s\u001b[0m 51ms/step - accuracy: 0.9971 - loss: 0.0094 - val_accuracy: 0.9918 - val_loss: 0.0316\n",
            "\n",
            "Average time per epoch: 47.68 seconds\n"
          ]
        }
      ]
    },
    {
      "cell_type": "code",
      "source": [
        "val_loss, val_accuracy = cnn_model16.evaluate(x_test, y_test_cat)"
      ],
      "metadata": {
        "id": "v9ZlG48R72aL",
        "colab": {
          "base_uri": "https://localhost:8080/"
        },
        "outputId": "884ba014-d307-472d-a4fd-299da8e9fd11"
      },
      "execution_count": 64,
      "outputs": [
        {
          "output_type": "stream",
          "name": "stdout",
          "text": [
            "\u001b[1m313/313\u001b[0m \u001b[32m━━━━━━━━━━━━━━━━━━━━\u001b[0m\u001b[37m\u001b[0m \u001b[1m2s\u001b[0m 6ms/step - accuracy: 0.9884 - loss: 0.0446\n"
          ]
        }
      ]
    },
    {
      "cell_type": "code",
      "source": [
        "# fitting with dropout of (0.5) after the first FC layer with the best parameters from the previous models (15 epoch, 0.1 LR, 2 Conv2D, 3 FC, 64 batch size, relu activation function, SGD optimizer,)\n",
        "cnn_model17 = Sequential()\n",
        "cnn_model17.add(Conv2D(16, (3, 3), activation='relu', input_shape=(28, 28, 1)))\n",
        "cnn_model17.add(Conv2D(16, (3, 3), activation='relu', input_shape=(28, 28, 1)))\n",
        "cnn_model17.add(MaxPooling2D(pool_size=(2, 2), strides=(2, 2)))\n",
        "cnn_model17.add(Flatten())\n",
        "cnn_model17.add(Dense(256, activation=\"relu\"))\n",
        "cnn_model17.add(Dropout(0.5))\n",
        "cnn_model17.add(Dense(128, activation=\"relu\"))\n",
        "cnn_model17.add(Dense(10, activation=\"softmax\"))\n",
        "cnn_model17.compile(\n",
        "optimizer=SGD(learning_rate=0.1),\n",
        "loss=\"categorical_crossentropy\",\n",
        "metrics=[\"accuracy\"],\n",
        "    )\n",
        "\n",
        "start_time = time.time()\n",
        "\n",
        "cnn_model17.fit(\n",
        "    x_train, y_train_cat,\n",
        "    batch_size=64,\n",
        "    epochs=15,\n",
        "    validation_data=(x_test, y_test_cat),\n",
        "    shuffle=True\n",
        ")\n",
        "\n",
        "total_time = time.time() - start_time\n",
        "print(f\"\\nAverage time per epoch: {total_time/15:.2f} seconds\")"
      ],
      "metadata": {
        "id": "-dmXMffl8SGK",
        "colab": {
          "base_uri": "https://localhost:8080/"
        },
        "outputId": "c8b0762e-7f3e-48fe-f453-54eec2078f45"
      },
      "execution_count": 65,
      "outputs": [
        {
          "output_type": "stream",
          "name": "stdout",
          "text": [
            "Epoch 1/15\n",
            "\u001b[1m938/938\u001b[0m \u001b[32m━━━━━━━━━━━━━━━━━━━━\u001b[0m\u001b[37m\u001b[0m \u001b[1m49s\u001b[0m 52ms/step - accuracy: 0.7791 - loss: 0.6716 - val_accuracy: 0.9689 - val_loss: 0.0959\n",
            "Epoch 2/15\n",
            "\u001b[1m938/938\u001b[0m \u001b[32m━━━━━━━━━━━━━━━━━━━━\u001b[0m\u001b[37m\u001b[0m \u001b[1m48s\u001b[0m 51ms/step - accuracy: 0.9634 - loss: 0.1219 - val_accuracy: 0.9826 - val_loss: 0.0513\n",
            "Epoch 3/15\n",
            "\u001b[1m938/938\u001b[0m \u001b[32m━━━━━━━━━━━━━━━━━━━━\u001b[0m\u001b[37m\u001b[0m \u001b[1m47s\u001b[0m 51ms/step - accuracy: 0.9748 - loss: 0.0837 - val_accuracy: 0.9843 - val_loss: 0.0469\n",
            "Epoch 4/15\n",
            "\u001b[1m938/938\u001b[0m \u001b[32m━━━━━━━━━━━━━━━━━━━━\u001b[0m\u001b[37m\u001b[0m \u001b[1m47s\u001b[0m 51ms/step - accuracy: 0.9810 - loss: 0.0641 - val_accuracy: 0.9738 - val_loss: 0.0762\n",
            "Epoch 5/15\n",
            "\u001b[1m938/938\u001b[0m \u001b[32m━━━━━━━━━━━━━━━━━━━━\u001b[0m\u001b[37m\u001b[0m \u001b[1m48s\u001b[0m 51ms/step - accuracy: 0.9846 - loss: 0.0506 - val_accuracy: 0.9895 - val_loss: 0.0351\n",
            "Epoch 6/15\n",
            "\u001b[1m938/938\u001b[0m \u001b[32m━━━━━━━━━━━━━━━━━━━━\u001b[0m\u001b[37m\u001b[0m \u001b[1m47s\u001b[0m 50ms/step - accuracy: 0.9865 - loss: 0.0424 - val_accuracy: 0.9882 - val_loss: 0.0352\n",
            "Epoch 7/15\n",
            "\u001b[1m938/938\u001b[0m \u001b[32m━━━━━━━━━━━━━━━━━━━━\u001b[0m\u001b[37m\u001b[0m \u001b[1m47s\u001b[0m 51ms/step - accuracy: 0.9884 - loss: 0.0398 - val_accuracy: 0.9901 - val_loss: 0.0308\n",
            "Epoch 8/15\n",
            "\u001b[1m938/938\u001b[0m \u001b[32m━━━━━━━━━━━━━━━━━━━━\u001b[0m\u001b[37m\u001b[0m \u001b[1m48s\u001b[0m 51ms/step - accuracy: 0.9890 - loss: 0.0352 - val_accuracy: 0.9916 - val_loss: 0.0281\n",
            "Epoch 9/15\n",
            "\u001b[1m938/938\u001b[0m \u001b[32m━━━━━━━━━━━━━━━━━━━━\u001b[0m\u001b[37m\u001b[0m \u001b[1m47s\u001b[0m 51ms/step - accuracy: 0.9902 - loss: 0.0313 - val_accuracy: 0.9908 - val_loss: 0.0295\n",
            "Epoch 10/15\n",
            "\u001b[1m938/938\u001b[0m \u001b[32m━━━━━━━━━━━━━━━━━━━━\u001b[0m\u001b[37m\u001b[0m \u001b[1m47s\u001b[0m 51ms/step - accuracy: 0.9910 - loss: 0.0288 - val_accuracy: 0.9914 - val_loss: 0.0311\n",
            "Epoch 11/15\n",
            "\u001b[1m938/938\u001b[0m \u001b[32m━━━━━━━━━━━━━━━━━━━━\u001b[0m\u001b[37m\u001b[0m \u001b[1m47s\u001b[0m 50ms/step - accuracy: 0.9919 - loss: 0.0250 - val_accuracy: 0.9912 - val_loss: 0.0292\n",
            "Epoch 12/15\n",
            "\u001b[1m938/938\u001b[0m \u001b[32m━━━━━━━━━━━━━━━━━━━━\u001b[0m\u001b[37m\u001b[0m \u001b[1m47s\u001b[0m 50ms/step - accuracy: 0.9930 - loss: 0.0215 - val_accuracy: 0.9888 - val_loss: 0.0391\n",
            "Epoch 13/15\n",
            "\u001b[1m938/938\u001b[0m \u001b[32m━━━━━━━━━━━━━━━━━━━━\u001b[0m\u001b[37m\u001b[0m \u001b[1m47s\u001b[0m 50ms/step - accuracy: 0.9928 - loss: 0.0216 - val_accuracy: 0.9916 - val_loss: 0.0287\n",
            "Epoch 14/15\n",
            "\u001b[1m938/938\u001b[0m \u001b[32m━━━━━━━━━━━━━━━━━━━━\u001b[0m\u001b[37m\u001b[0m \u001b[1m47s\u001b[0m 51ms/step - accuracy: 0.9938 - loss: 0.0191 - val_accuracy: 0.9922 - val_loss: 0.0321\n",
            "Epoch 15/15\n",
            "\u001b[1m938/938\u001b[0m \u001b[32m━━━━━━━━━━━━━━━━━━━━\u001b[0m\u001b[37m\u001b[0m \u001b[1m47s\u001b[0m 50ms/step - accuracy: 0.9939 - loss: 0.0183 - val_accuracy: 0.9928 - val_loss: 0.0276\n",
            "\n",
            "Average time per epoch: 47.57 seconds\n"
          ]
        }
      ]
    },
    {
      "cell_type": "code",
      "source": [
        "val_loss, val_accuracy = cnn_model17.evaluate(x_test, y_test_cat)"
      ],
      "metadata": {
        "id": "LTuC80PB8Wes",
        "colab": {
          "base_uri": "https://localhost:8080/"
        },
        "outputId": "bd6c9c2e-1878-4147-ae75-c526ff999d54"
      },
      "execution_count": 66,
      "outputs": [
        {
          "output_type": "stream",
          "name": "stdout",
          "text": [
            "\u001b[1m313/313\u001b[0m \u001b[32m━━━━━━━━━━━━━━━━━━━━\u001b[0m\u001b[37m\u001b[0m \u001b[1m2s\u001b[0m 6ms/step - accuracy: 0.9898 - loss: 0.0371\n"
          ]
        }
      ]
    },
    {
      "cell_type": "code",
      "source": [
        "# fitting with dropout of (0.3) after the last CNN layer with the best parameters from the previous models (15 epoch, 0.1 LR, 2 Conv2D, 3 FC, 64 batch size, relu activation function, SGD optimizer,)\n",
        "\n",
        "cnn_model18 = Sequential()\n",
        "cnn_model18.add(Conv2D(16, (3, 3), activation='relu', input_shape=(28, 28, 1)))\n",
        "cnn_model18.add(Conv2D(16, (3, 3), activation='relu', input_shape=(28, 28, 1)))\n",
        "cnn_model18.add(Dropout(0.3))\n",
        "cnn_model18.add(MaxPooling2D(pool_size=(2, 2), strides=(2, 2)))\n",
        "cnn_model18.add(Flatten())\n",
        "cnn_model18.add(Dense(256, activation=\"relu\"))\n",
        "cnn_model18.add(Dense(128, activation=\"relu\"))\n",
        "cnn_model18.add(Dense(10, activation=\"softmax\"))\n",
        "cnn_model18.compile(\n",
        "optimizer=SGD(learning_rate=0.1),\n",
        "loss=\"categorical_crossentropy\",\n",
        "metrics=[\"accuracy\"],\n",
        "    )\n",
        "\n",
        "start_time = time.time()\n",
        "\n",
        "cnn_model18.fit(\n",
        "    x_train, y_train_cat,\n",
        "    batch_size=64,\n",
        "    epochs=15,\n",
        "    validation_data=(x_test, y_test_cat),\n",
        "    shuffle=True\n",
        ")\n",
        "\n",
        "total_time = time.time() - start_time\n",
        "print(f\"\\nAverage time per epoch: {total_time/15:.2f} seconds\")"
      ],
      "metadata": {
        "id": "ZGDLug818bBc",
        "colab": {
          "base_uri": "https://localhost:8080/"
        },
        "outputId": "657e299e-d198-4dad-be0e-f213f5b6ea17"
      },
      "execution_count": 67,
      "outputs": [
        {
          "output_type": "stream",
          "name": "stdout",
          "text": [
            "Epoch 1/15\n",
            "\u001b[1m938/938\u001b[0m \u001b[32m━━━━━━━━━━━━━━━━━━━━\u001b[0m\u001b[37m\u001b[0m \u001b[1m56s\u001b[0m 59ms/step - accuracy: 0.8348 - loss: 0.5254 - val_accuracy: 0.9733 - val_loss: 0.0903\n",
            "Epoch 2/15\n",
            "\u001b[1m938/938\u001b[0m \u001b[32m━━━━━━━━━━━━━━━━━━━━\u001b[0m\u001b[37m\u001b[0m \u001b[1m54s\u001b[0m 58ms/step - accuracy: 0.9760 - loss: 0.0772 - val_accuracy: 0.9846 - val_loss: 0.0528\n",
            "Epoch 3/15\n",
            "\u001b[1m938/938\u001b[0m \u001b[32m━━━━━━━━━━━━━━━━━━━━\u001b[0m\u001b[37m\u001b[0m \u001b[1m54s\u001b[0m 58ms/step - accuracy: 0.9850 - loss: 0.0486 - val_accuracy: 0.9823 - val_loss: 0.0550\n",
            "Epoch 4/15\n",
            "\u001b[1m938/938\u001b[0m \u001b[32m━━━━━━━━━━━━━━━━━━━━\u001b[0m\u001b[37m\u001b[0m \u001b[1m54s\u001b[0m 58ms/step - accuracy: 0.9896 - loss: 0.0326 - val_accuracy: 0.9846 - val_loss: 0.0459\n",
            "Epoch 5/15\n",
            "\u001b[1m938/938\u001b[0m \u001b[32m━━━━━━━━━━━━━━━━━━━━\u001b[0m\u001b[37m\u001b[0m \u001b[1m54s\u001b[0m 58ms/step - accuracy: 0.9925 - loss: 0.0236 - val_accuracy: 0.9856 - val_loss: 0.0398\n",
            "Epoch 6/15\n",
            "\u001b[1m938/938\u001b[0m \u001b[32m━━━━━━━━━━━━━━━━━━━━\u001b[0m\u001b[37m\u001b[0m \u001b[1m54s\u001b[0m 58ms/step - accuracy: 0.9941 - loss: 0.0184 - val_accuracy: 0.9877 - val_loss: 0.0374\n",
            "Epoch 7/15\n",
            "\u001b[1m938/938\u001b[0m \u001b[32m━━━━━━━━━━━━━━━━━━━━\u001b[0m\u001b[37m\u001b[0m \u001b[1m54s\u001b[0m 58ms/step - accuracy: 0.9956 - loss: 0.0151 - val_accuracy: 0.9847 - val_loss: 0.0460\n",
            "Epoch 8/15\n",
            "\u001b[1m938/938\u001b[0m \u001b[32m━━━━━━━━━━━━━━━━━━━━\u001b[0m\u001b[37m\u001b[0m \u001b[1m54s\u001b[0m 58ms/step - accuracy: 0.9962 - loss: 0.0124 - val_accuracy: 0.9845 - val_loss: 0.0494\n",
            "Epoch 9/15\n",
            "\u001b[1m938/938\u001b[0m \u001b[32m━━━━━━━━━━━━━━━━━━━━\u001b[0m\u001b[37m\u001b[0m \u001b[1m54s\u001b[0m 58ms/step - accuracy: 0.9965 - loss: 0.0101 - val_accuracy: 0.9872 - val_loss: 0.0383\n",
            "Epoch 10/15\n",
            "\u001b[1m938/938\u001b[0m \u001b[32m━━━━━━━━━━━━━━━━━━━━\u001b[0m\u001b[37m\u001b[0m \u001b[1m55s\u001b[0m 58ms/step - accuracy: 0.9977 - loss: 0.0073 - val_accuracy: 0.9877 - val_loss: 0.0386\n",
            "Epoch 11/15\n",
            "\u001b[1m938/938\u001b[0m \u001b[32m━━━━━━━━━━━━━━━━━━━━\u001b[0m\u001b[37m\u001b[0m \u001b[1m54s\u001b[0m 58ms/step - accuracy: 0.9976 - loss: 0.0068 - val_accuracy: 0.9887 - val_loss: 0.0368\n",
            "Epoch 12/15\n",
            "\u001b[1m938/938\u001b[0m \u001b[32m━━━━━━━━━━━━━━━━━━━━\u001b[0m\u001b[37m\u001b[0m \u001b[1m54s\u001b[0m 58ms/step - accuracy: 0.9978 - loss: 0.0062 - val_accuracy: 0.9883 - val_loss: 0.0352\n",
            "Epoch 13/15\n",
            "\u001b[1m938/938\u001b[0m \u001b[32m━━━━━━━━━━━━━━━━━━━━\u001b[0m\u001b[37m\u001b[0m \u001b[1m54s\u001b[0m 58ms/step - accuracy: 0.9986 - loss: 0.0046 - val_accuracy: 0.9882 - val_loss: 0.0401\n",
            "Epoch 14/15\n",
            "\u001b[1m938/938\u001b[0m \u001b[32m━━━━━━━━━━━━━━━━━━━━\u001b[0m\u001b[37m\u001b[0m \u001b[1m54s\u001b[0m 58ms/step - accuracy: 0.9982 - loss: 0.0047 - val_accuracy: 0.9887 - val_loss: 0.0383\n",
            "Epoch 15/15\n",
            "\u001b[1m938/938\u001b[0m \u001b[32m━━━━━━━━━━━━━━━━━━━━\u001b[0m\u001b[37m\u001b[0m \u001b[1m54s\u001b[0m 58ms/step - accuracy: 0.9984 - loss: 0.0053 - val_accuracy: 0.9896 - val_loss: 0.0377\n",
            "\n",
            "Average time per epoch: 54.53 seconds\n"
          ]
        }
      ]
    },
    {
      "cell_type": "code",
      "source": [
        "val_loss, val_accuracy = cnn_model18.evaluate(x_test, y_test_cat)"
      ],
      "metadata": {
        "id": "7fb7_R_N86xo",
        "colab": {
          "base_uri": "https://localhost:8080/"
        },
        "outputId": "90c92aa3-f2bc-40ae-b3d1-ff061d5c558d"
      },
      "execution_count": 68,
      "outputs": [
        {
          "output_type": "stream",
          "name": "stdout",
          "text": [
            "\u001b[1m313/313\u001b[0m \u001b[32m━━━━━━━━━━━━━━━━━━━━\u001b[0m\u001b[37m\u001b[0m \u001b[1m2s\u001b[0m 5ms/step - accuracy: 0.9870 - loss: 0.0484\n"
          ]
        }
      ]
    }
  ],
  "metadata": {
    "accelerator": "TPU",
    "colab": {
      "gpuType": "V28",
      "provenance": [],
      "collapsed_sections": [
        "X86MNUkAoorG",
        "dWt_mcugX5_C",
        "Okv4SbJP6ic0"
      ]
    },
    "kernelspec": {
      "display_name": "Python 3",
      "name": "python3"
    },
    "language_info": {
      "name": "python"
    }
  },
  "nbformat": 4,
  "nbformat_minor": 0
}